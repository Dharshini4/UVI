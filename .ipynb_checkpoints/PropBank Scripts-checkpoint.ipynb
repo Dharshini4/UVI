{
 "cells": [
  {
   "cell_type": "code",
   "execution_count": 2,
   "metadata": {},
   "outputs": [],
   "source": [
    "from pymongo import MongoClient\n",
    "\n",
    "mongo_client = MongoClient()\n",
    "db = mongo_client['uvi_corpora']"
   ]
  },
  {
   "cell_type": "code",
   "execution_count": 29,
   "metadata": {},
   "outputs": [],
   "source": [
    "pb_frame_example = db.propbank.find_one({'frameset_id':'buy'})"
   ]
  },
  {
   "cell_type": "code",
   "execution_count": 30,
   "metadata": {},
   "outputs": [
    {
     "data": {
      "text/plain": [
       "dict_keys(['_id', 'predicates', 'resource_type', 'frameset_id'])"
      ]
     },
     "execution_count": 30,
     "metadata": {},
     "output_type": "execute_result"
    }
   ],
   "source": [
    "pb_frame_example.keys()"
   ]
  },
  {
   "cell_type": "code",
   "execution_count": 31,
   "metadata": {},
   "outputs": [
    {
     "data": {
      "text/plain": [
       "'pb'"
      ]
     },
     "execution_count": 31,
     "metadata": {},
     "output_type": "execute_result"
    }
   ],
   "source": [
    "pb_frame_example['resource_type']"
   ]
  },
  {
   "cell_type": "code",
   "execution_count": 32,
   "metadata": {},
   "outputs": [
    {
     "data": {
      "text/plain": [
       "'buy'"
      ]
     },
     "execution_count": 32,
     "metadata": {},
     "output_type": "execute_result"
    }
   ],
   "source": [
    "pb_frame_example['frameset_id']"
   ]
  },
  {
   "cell_type": "code",
   "execution_count": 39,
   "metadata": {},
   "outputs": [
    {
     "data": {
      "text/plain": [
       "dict_keys(['roleset_id', 'roleset_name', 'aliases', 'roles', 'examples'])"
      ]
     },
     "execution_count": 39,
     "metadata": {},
     "output_type": "execute_result"
    }
   ],
   "source": [
    "pb_frame_example['predicates'][0]['rolesets'][0].keys()"
   ]
  },
  {
   "cell_type": "code",
   "execution_count": 43,
   "metadata": {},
   "outputs": [
    {
     "data": {
      "text/plain": [
       "[{'descr': 'buyer',\n",
       "  'f': 'pag',\n",
       "  'n': '0',\n",
       "  'vnrole': {'vncls': '13.5.1', 'vntheta': 'agent'}},\n",
       " {'descr': 'thing bought',\n",
       "  'f': 'ppt',\n",
       "  'n': '1',\n",
       "  'vnrole': {'vncls': '13.5.1', 'vntheta': 'theme'}},\n",
       " {'descr': 'seller',\n",
       "  'f': 'dir',\n",
       "  'n': '2',\n",
       "  'vnrole': {'vncls': '13.5.1', 'vntheta': 'source'}},\n",
       " {'descr': 'price paid',\n",
       "  'f': 'vsp',\n",
       "  'n': '3',\n",
       "  'vnrole': {'vncls': '13.5.1', 'vntheta': 'asset'}},\n",
       " {'descr': 'benefactive',\n",
       "  'f': 'gol',\n",
       "  'n': '4',\n",
       "  'vnrole': {'vncls': '13.5.1', 'vntheta': 'beneficiary'}}]"
      ]
     },
     "execution_count": 43,
     "metadata": {},
     "output_type": "execute_result"
    }
   ],
   "source": [
    "pb_frame_example['predicates'][0]['rolesets'][0]['roles']"
   ]
  },
  {
   "cell_type": "code",
   "execution_count": 44,
   "metadata": {},
   "outputs": [
    {
     "data": {
      "text/plain": [
       "{'lemma': 'buy_up',\n",
       " 'rolesets': [{'roleset_id': 'buy_up.02',\n",
       "   'roleset_name': 'purchase extensively',\n",
       "   'aliases': [{'alias_name': 'buy_up', 'pos': 'v', 'fn': '', 'vn': ''}],\n",
       "   'roles': [{'descr': 'buyer',\n",
       "     'f': 'pag',\n",
       "     'n': '0',\n",
       "     'vnrole': {'vncls': '13.5.1', 'vntheta': 'agent'}},\n",
       "    {'descr': 'thing bought',\n",
       "     'f': 'ppt',\n",
       "     'n': '1',\n",
       "     'vnrole': {'vncls': '13.5.1', 'vntheta': 'theme'}},\n",
       "    {'descr': 'seller',\n",
       "     'f': 'dir',\n",
       "     'n': '2',\n",
       "     'vnrole': {'vncls': '13.5.1', 'vntheta': 'source'}},\n",
       "    {'descr': 'price paid',\n",
       "     'f': 'vsp',\n",
       "     'n': '3',\n",
       "     'vnrole': {'vncls': '13.5.1', 'vntheta': 'asset'}},\n",
       "    {'descr': 'benefactive',\n",
       "     'f': 'gol',\n",
       "     'n': '4',\n",
       "     'vnrole': {'vncls': '13.5.1', 'vntheta': 'beneficiary'}}],\n",
       "   'examples': [{'example_name': 'buy_up-v: with purpose clause:',\n",
       "     'example_text': 'The company bought up sugar on the world market to meet export commitments',\n",
       "     'args': [{'arg_text': 'The company', 'f': '', 'n': '0'},\n",
       "      {'arg_text': 'sugar', 'f': '', 'n': '1'},\n",
       "      {'arg_text': 'on the world market', 'f': 'loc', 'n': 'm'},\n",
       "      {'arg_text': 'to meet export commitments', 'f': 'pnc', 'n': 'm'}],\n",
       "     'rel': {'rel_text': '[bought] [up]', 'f': ''}}]}]}"
      ]
     },
     "execution_count": 44,
     "metadata": {},
     "output_type": "execute_result"
    }
   ],
   "source": [
    "pb_frame_example['predicates'][1]"
   ]
  },
  {
   "cell_type": "code",
   "execution_count": 45,
   "metadata": {},
   "outputs": [
    {
     "data": {
      "text/plain": [
       "dict_keys(['lemma', 'rolesets'])"
      ]
     },
     "execution_count": 45,
     "metadata": {},
     "output_type": "execute_result"
    }
   ],
   "source": [
    "pb_frame_example['predicates'][0].keys()"
   ]
  },
  {
   "cell_type": "code",
   "execution_count": 145,
   "metadata": {},
   "outputs": [
    {
     "data": {
      "text/plain": [
       "'run'"
      ]
     },
     "execution_count": 145,
     "metadata": {},
     "output_type": "execute_result"
    }
   ],
   "source": [
    "pb_lemmas = ['run']\n",
    "matched_pb_elements = list(db.propbank.find({'predicates.lemma': {'$in': pb_lemmas}}))\n",
    "matched_pb_elements[0]['frameset_id']"
   ]
  },
  {
   "cell_type": "code",
   "execution_count": 146,
   "metadata": {},
   "outputs": [
    {
     "data": {
      "text/plain": [
       "{'example_name': 'run-v: unaccusative',\n",
       " 'example_text': 'Construction spending ran at an annual rate of $415.6 billion.',\n",
       " 'args': [{'arg_text': 'Construction spending', 'f': '', 'n': '1'},\n",
       "  {'arg_text': 'at an annual rate of $415.6 billion', 'f': 'mnr', 'n': 'm'}],\n",
       " 'rel': {'rel_text': 'ran', 'f': ''}}"
      ]
     },
     "execution_count": 146,
     "metadata": {},
     "output_type": "execute_result"
    }
   ],
   "source": [
    "from randomcolor import RandomColor\n",
    "example = matched_pb_elements[0]['predicates'][0]['rolesets'][0]['examples'][1]\n",
    "example"
   ]
  },
  {
   "cell_type": "code",
   "execution_count": 147,
   "metadata": {},
   "outputs": [],
   "source": [
    "def colored_pb_example(example):\n",
    "    arg_text_examples = [arg['arg_text'] for arg in example['args']]\n",
    "    colors = RandomColor(seed = example['example_name']).generate(count=len(example['args']), luminosity='light')\n",
    "    color_dict = {arg_text:color for arg_text,color in zip(arg_text_examples, colors)}\n",
    "    colored_arg_dict = {arg_text:'<span style=background-color:'+color_dict[arg_text]+'>'+arg_text+'</span>' for arg_text in arg_text_examples }\n",
    "    for arg in example['args']:\n",
    "        arg['arg_text'] = colored_arg_dict[arg['arg_text']]\n",
    "    \n",
    "    for arg_text in arg_text_examples:\n",
    "        example['example_text'] = example['example_text'].replace(arg_text, colored_arg_dict[arg_text])\n",
    "    \n",
    "    if len(example['rel']['rel_text']) > 0:\n",
    "        colored_rel = '<span style=color:red>'+example['rel']['rel_text']+'</span>'\n",
    "        example['example_text'] = example['example_text'].replace(example['rel']['rel_text'], colored_rel)\n",
    "        example['rel']['rel_text'] = colored_rel\n",
    "        \n",
    "    return example"
   ]
  },
  {
   "cell_type": "code",
   "execution_count": 148,
   "metadata": {},
   "outputs": [],
   "source": [
    "colored_example = colored_pb_example(example)"
   ]
  },
  {
   "cell_type": "code",
   "execution_count": 149,
   "metadata": {},
   "outputs": [
    {
     "data": {
      "text/plain": [
       "'<span style=background-color:#c3ed80>Construction spending</span> <span style=color:red>ran</span> <span style=background-color:#b47fff>at an annual rate of $415.6 billion</span>.'"
      ]
     },
     "execution_count": 149,
     "metadata": {},
     "output_type": "execute_result"
    }
   ],
   "source": [
    "colored_example['example_text']"
   ]
  },
  {
   "cell_type": "code",
   "execution_count": 150,
   "metadata": {},
   "outputs": [
    {
     "data": {
      "text/plain": [
       "{'rel_text': '<span style=color:red>ran</span>', 'f': ''}"
      ]
     },
     "execution_count": 150,
     "metadata": {},
     "output_type": "execute_result"
    }
   ],
   "source": [
    "colored_example['rel']"
   ]
  },
  {
   "cell_type": "code",
   "execution_count": 152,
   "metadata": {},
   "outputs": [
    {
     "data": {
      "text/plain": [
       "3"
      ]
     },
     "execution_count": 152,
     "metadata": {},
     "output_type": "execute_result"
    }
   ],
   "source": [
    "len('carry-11.4-1'.split('-'))"
   ]
  },
  {
   "cell_type": "code",
   "execution_count": 237,
   "metadata": {},
   "outputs": [],
   "source": [
    "def vn_sanitized_class(vn_class_id):\n",
    "    def del_original(vn_class_json, original_class_id):\n",
    "        print(subclass['class_id'])\n",
    "        print()\n",
    "        subclasses = vn_class_json['subclasses']\n",
    "#         temp_list = [vn_subclass_json['class_id'] for vn_subclass_json in subclasses]\n",
    "        temp_list = []\n",
    "        for vn_subclass_json in subclasses:\n",
    "            print(vn_subclass_json['class_id'])\n",
    "        \n",
    "        if original_class_id in temp_list:\n",
    "            vn_class_json['subclasses'] = [vn_subclass for vn_subclass in vn_class_json['subclasses'] if vn_subclass['class_id'] != original_class_id]\n",
    "            return vn_class_json\n",
    "        else:\n",
    "            for subclass in vn_class_json['subclasses']:\n",
    "                del_original(subclass, original_class_id)\n",
    "    #if already top-level class, return None type\n",
    "    if len(vn_class_id.split('-')) == 2:\n",
    "        return None\n",
    "    else:\n",
    "        top_parent_id = ('-').join(vn_class_id.split('-')[:2])\n",
    "        top_parent_json = db.verbnet.find_one({'class_id': top_parent_id})\n",
    "        del_original(top_parent_json, vn_class_id)\n",
    "        return [top_parent_json]"
   ]
  },
  {
   "cell_type": "code",
   "execution_count": 238,
   "metadata": {},
   "outputs": [
    {
     "name": "stdout",
     "output_type": "stream",
     "text": [
      "run-51.3.2-1\n",
      "run-51.3.2-2\n",
      "run-51.3.2-1\n",
      "\n"
     ]
    },
    {
     "ename": "TypeError",
     "evalue": "'NoneType' object is not iterable",
     "output_type": "error",
     "traceback": [
      "\u001b[0;31m---------------------------------------------------------------------------\u001b[0m",
      "\u001b[0;31mTypeError\u001b[0m                                 Traceback (most recent call last)",
      "\u001b[0;32m<ipython-input-238-4b199660122b>\u001b[0m in \u001b[0;36m<module>\u001b[0;34m()\u001b[0m\n\u001b[0;32m----> 1\u001b[0;31m \u001b[0mvn_sanitized_class\u001b[0m\u001b[0;34m(\u001b[0m\u001b[0;34m'run-51.3.2-2-1'\u001b[0m\u001b[0;34m)\u001b[0m\u001b[0;34m\u001b[0m\u001b[0m\n\u001b[0m",
      "\u001b[0;32m<ipython-input-237-8dce4e72f2f5>\u001b[0m in \u001b[0;36mvn_sanitized_class\u001b[0;34m(vn_class_id)\u001b[0m\n\u001b[1;32m     21\u001b[0m         \u001b[0mtop_parent_id\u001b[0m \u001b[0;34m=\u001b[0m \u001b[0;34m(\u001b[0m\u001b[0;34m'-'\u001b[0m\u001b[0;34m)\u001b[0m\u001b[0;34m.\u001b[0m\u001b[0mjoin\u001b[0m\u001b[0;34m(\u001b[0m\u001b[0mvn_class_id\u001b[0m\u001b[0;34m.\u001b[0m\u001b[0msplit\u001b[0m\u001b[0;34m(\u001b[0m\u001b[0;34m'-'\u001b[0m\u001b[0;34m)\u001b[0m\u001b[0;34m[\u001b[0m\u001b[0;34m:\u001b[0m\u001b[0;36m2\u001b[0m\u001b[0;34m]\u001b[0m\u001b[0;34m)\u001b[0m\u001b[0;34m\u001b[0m\u001b[0m\n\u001b[1;32m     22\u001b[0m         \u001b[0mtop_parent_json\u001b[0m \u001b[0;34m=\u001b[0m \u001b[0mdb\u001b[0m\u001b[0;34m.\u001b[0m\u001b[0mverbnet\u001b[0m\u001b[0;34m.\u001b[0m\u001b[0mfind_one\u001b[0m\u001b[0;34m(\u001b[0m\u001b[0;34m{\u001b[0m\u001b[0;34m'class_id'\u001b[0m\u001b[0;34m:\u001b[0m \u001b[0mtop_parent_id\u001b[0m\u001b[0;34m}\u001b[0m\u001b[0;34m)\u001b[0m\u001b[0;34m\u001b[0m\u001b[0m\n\u001b[0;32m---> 23\u001b[0;31m         \u001b[0mdel_original\u001b[0m\u001b[0;34m(\u001b[0m\u001b[0mtop_parent_json\u001b[0m\u001b[0;34m,\u001b[0m \u001b[0mvn_class_id\u001b[0m\u001b[0;34m)\u001b[0m\u001b[0;34m\u001b[0m\u001b[0m\n\u001b[0m\u001b[1;32m     24\u001b[0m         \u001b[0;32mreturn\u001b[0m \u001b[0;34m[\u001b[0m\u001b[0mtop_parent_json\u001b[0m\u001b[0;34m]\u001b[0m\u001b[0;34m\u001b[0m\u001b[0m\n",
      "\u001b[0;32m<ipython-input-237-8dce4e72f2f5>\u001b[0m in \u001b[0;36mdel_original\u001b[0;34m(vn_class_json, original_class_id)\u001b[0m\n\u001b[1;32m     14\u001b[0m                 \u001b[0mprint\u001b[0m\u001b[0;34m(\u001b[0m\u001b[0msubclass\u001b[0m\u001b[0;34m[\u001b[0m\u001b[0;34m'class_id'\u001b[0m\u001b[0;34m]\u001b[0m\u001b[0;34m)\u001b[0m\u001b[0;34m\u001b[0m\u001b[0m\n\u001b[1;32m     15\u001b[0m                 \u001b[0mprint\u001b[0m\u001b[0;34m(\u001b[0m\u001b[0;34m)\u001b[0m\u001b[0;34m\u001b[0m\u001b[0m\n\u001b[0;32m---> 16\u001b[0;31m                 \u001b[0mdel_original\u001b[0m\u001b[0;34m(\u001b[0m\u001b[0msubclass\u001b[0m\u001b[0;34m,\u001b[0m \u001b[0moriginal_class_id\u001b[0m\u001b[0;34m)\u001b[0m\u001b[0;34m\u001b[0m\u001b[0m\n\u001b[0m\u001b[1;32m     17\u001b[0m     \u001b[0;31m#if already top-level class, return None type\u001b[0m\u001b[0;34m\u001b[0m\u001b[0;34m\u001b[0m\u001b[0m\n\u001b[1;32m     18\u001b[0m     \u001b[0;32mif\u001b[0m \u001b[0mlen\u001b[0m\u001b[0;34m(\u001b[0m\u001b[0mvn_class_id\u001b[0m\u001b[0;34m.\u001b[0m\u001b[0msplit\u001b[0m\u001b[0;34m(\u001b[0m\u001b[0;34m'-'\u001b[0m\u001b[0;34m)\u001b[0m\u001b[0;34m)\u001b[0m \u001b[0;34m==\u001b[0m \u001b[0;36m2\u001b[0m\u001b[0;34m:\u001b[0m\u001b[0;34m\u001b[0m\u001b[0m\n",
      "\u001b[0;32m<ipython-input-237-8dce4e72f2f5>\u001b[0m in \u001b[0;36mdel_original\u001b[0;34m(vn_class_json, original_class_id)\u001b[0m\n\u001b[1;32m      4\u001b[0m \u001b[0;31m#         temp_list = [vn_subclass_json['class_id'] for vn_subclass_json in subclasses]\u001b[0m\u001b[0;34m\u001b[0m\u001b[0;34m\u001b[0m\u001b[0m\n\u001b[1;32m      5\u001b[0m         \u001b[0mtemp_list\u001b[0m \u001b[0;34m=\u001b[0m \u001b[0;34m[\u001b[0m\u001b[0;34m]\u001b[0m\u001b[0;34m\u001b[0m\u001b[0m\n\u001b[0;32m----> 6\u001b[0;31m         \u001b[0;32mfor\u001b[0m \u001b[0mvn_subclass_json\u001b[0m \u001b[0;32min\u001b[0m \u001b[0msubclasses\u001b[0m\u001b[0;34m:\u001b[0m\u001b[0;34m\u001b[0m\u001b[0m\n\u001b[0m\u001b[1;32m      7\u001b[0m             \u001b[0mprint\u001b[0m\u001b[0;34m(\u001b[0m\u001b[0mvn_subclass_json\u001b[0m\u001b[0;34m[\u001b[0m\u001b[0;34m'class_id'\u001b[0m\u001b[0;34m]\u001b[0m\u001b[0;34m)\u001b[0m\u001b[0;34m\u001b[0m\u001b[0m\n\u001b[1;32m      8\u001b[0m \u001b[0;34m\u001b[0m\u001b[0m\n",
      "\u001b[0;31mTypeError\u001b[0m: 'NoneType' object is not iterable"
     ]
    }
   ],
   "source": [
    "vn_sanitized_class('run-51.3.2-2-1')"
   ]
  },
  {
   "cell_type": "code",
   "execution_count": null,
   "metadata": {},
   "outputs": [],
   "source": []
  }
 ],
 "metadata": {
  "kernelspec": {
   "display_name": "Python(uvi)",
   "language": "python",
   "name": "uvi"
  },
  "language_info": {
   "codemirror_mode": {
    "name": "ipython",
    "version": 3
   },
   "file_extension": ".py",
   "mimetype": "text/x-python",
   "name": "python",
   "nbconvert_exporter": "python",
   "pygments_lexer": "ipython3",
   "version": "3.6.5"
  }
 },
 "nbformat": 4,
 "nbformat_minor": 2
}
