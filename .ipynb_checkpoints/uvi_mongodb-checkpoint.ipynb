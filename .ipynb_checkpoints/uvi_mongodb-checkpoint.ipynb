{
 "cells": [
  {
   "cell_type": "code",
   "execution_count": 1,
   "metadata": {},
   "outputs": [],
   "source": [
    "from pymongo import MongoClient\n",
    "\n",
    "mongo_client = MongoClient()\n",
    "db = mongo_client['uvi_corpora']"
   ]
  },
  {
   "cell_type": "code",
   "execution_count": 7,
   "metadata": {},
   "outputs": [],
   "source": [
    "class_id = 'carry-11.4-1'\n",
    "class_id = 'bump-18.4'\n",
    "class_id = 'wipe_manner-10.4.1'"
   ]
  },
  {
   "cell_type": "code",
   "execution_count": null,
   "metadata": {},
   "outputs": [],
   "source": [
    "list(db.verbnet.find({'members.wn': '?buff%2:35:00'}))"
   ]
  },
  {
   "cell_type": "code",
   "execution_count": null,
   "metadata": {},
   "outputs": [],
   "source": [
    "list(db.verbnet.find({'members.wn': {'$regex': '\\?.+'}}))"
   ]
  },
  {
   "cell_type": "code",
   "execution_count": 9,
   "metadata": {},
   "outputs": [
    {
     "data": {
      "text/plain": [
       "{'_id': ObjectId('5b490fb3610e1a0818e7865d'),\n",
       " 'class_id': 'wipe_manner-10.4.1',\n",
       " 'members': [{'name': 'buff', 'wn': ['?buff%2:35:00'], 'grouping': None},\n",
       "  {'name': 'distill', 'wn': ['distill%2:30:03'], 'grouping': ['distill.01']},\n",
       "  {'name': 'distil', 'wn': ['distil%2:30:02'], 'grouping': ['distil.01']},\n",
       "  {'name': 'exorcise', 'wn': ['exorcise%2:35:00'], 'grouping': None},\n",
       "  {'name': 'expunge', 'wn': ['expunge%2:35:00'], 'grouping': None},\n",
       "  {'name': 'expurgate', 'wn': ['expurgate%2:30:00'], 'grouping': None},\n",
       "  {'name': 'flush', 'wn': ['flush%2:30:01'], 'grouping': ['flush.04']},\n",
       "  {'name': 'leach', 'wn': ['leach%2:30:00'], 'grouping': None},\n",
       "  {'name': 'offload', 'wn': ['offload%2:35:00'], 'grouping': None},\n",
       "  {'name': 'polish', 'wn': ['polish%2:35:00'], 'grouping': ['polish.01']},\n",
       "  {'name': 'purge',\n",
       "   'wn': ['purge%2:30:00', 'purge%2:29:00'],\n",
       "   'grouping': ['purge.01']},\n",
       "  {'name': 'shave',\n",
       "   'wn': ['shave%2:29:00', 'shave%2:35:01', 'shave%2:35:02', 'shave%2:35:03'],\n",
       "   'grouping': ['shave.02']},\n",
       "  {'name': 'smooth', 'wn': ['smooth%2:35:00'], 'grouping': ['smooth.01']},\n",
       "  {'name': 'skim', 'wn': ['skim%2:35:01'], 'grouping': ['skim.04']},\n",
       "  {'name': 'soak', 'wn': ['soak%2:30:01'], 'grouping': ['soak.01']},\n",
       "  {'name': 'strain',\n",
       "   'wn': ['strain%2:35:01', 'strain%2:35:00', 'strain%2:35:10'],\n",
       "   'grouping': ['strain.03']},\n",
       "  {'name': 'trim',\n",
       "   'wn': ['trim%2:35:03', 'trim%2:30:00', 'trim%2:35:02', 'trim%2:35:01'],\n",
       "   'grouping': ['trim.01', 'trim.02']},\n",
       "  {'name': 'unload', 'wn': ['unload%2:35:00'], 'grouping': ['unload.01']},\n",
       "  {'name': 'weed', 'wn': ['weed%2:30:00'], 'grouping': None},\n",
       "  {'name': 'whisk', 'wn': ['whisk%2:35:01'], 'grouping': None},\n",
       "  {'name': 'winnow',\n",
       "   'wn': ['winnow%2:35:05', 'winnow%2:30:00'],\n",
       "   'grouping': None},\n",
       "  {'name': 'wring', 'wn': ['wring%2:35:02'], 'grouping': ['wring.01']}],\n",
       " 'themroles': [{'themrole': 'Agent',\n",
       "   'selrestrs': {'selrestrs_list': [{'value': '+', 'type': 'int_control'}],\n",
       "    'selrestr_logic': '&'},\n",
       "   'synrestrs': {'synrestr_list': None, 'synrestr_logic': None}},\n",
       "  {'themrole': 'Theme',\n",
       "   'selrestrs': {'selrestrs_list': [{'value': '+', 'type': 'concrete'},\n",
       "     {'value': '-', 'type': 'animate'}],\n",
       "    'selrestr_logic': '&'},\n",
       "   'synrestrs': {'synrestr_list': None, 'synrestr_logic': None}},\n",
       "  {'themrole': 'Source',\n",
       "   'selrestrs': {'selrestrs_list': [{'value': '+', 'type': 'location'}],\n",
       "    'selrestr_logic': '&'},\n",
       "   'synrestrs': {'synrestr_list': None, 'synrestr_logic': None}},\n",
       "  {'themrole': 'Destination',\n",
       "   'selrestrs': {'selrestrs_list': [{'value': '+', 'type': 'location'}],\n",
       "    'selrestr_logic': '&'},\n",
       "   'synrestrs': {'synrestr_list': None, 'synrestr_logic': None}}],\n",
       " 'frames': [{'description': {'primary': 'NP V NP PP.source',\n",
       "    'secondary': 'NP-PP; Source-PP',\n",
       "    'number': '0.2',\n",
       "    'xtag': ''},\n",
       "   'examples': [{'example_text': 'Brian wiped the fingerprints from the counter.',\n",
       "     'svg': '<svg xmlns=\"http://www.w3.org/2000/svg\" xmlns:xlink=\"http://www.w3.org/1999/xlink\" id=\"0\" class=\"displacy\" width=\"1100\" height=\"362.0\" style=\"max-width: none; height: 362.0px; color: #000000; background: #ffffff; font-family: Arial\">\\n<text class=\"displacy-token\" fill=\"currentColor\" text-anchor=\"middle\" y=\"272.0\">\\n    <tspan class=\"displacy-word\" fill=\"currentColor\" x=\"50\">Brian</tspan>\\n    <tspan class=\"displacy-tag\" dy=\"2em\" fill=\"currentColor\" x=\"50\">PROPN</tspan>\\n</text>\\n\\n<text class=\"displacy-token\" fill=\"currentColor\" text-anchor=\"middle\" y=\"272.0\">\\n    <tspan class=\"displacy-word\" fill=\"currentColor\" x=\"200\">wiped</tspan>\\n    <tspan class=\"displacy-tag\" dy=\"2em\" fill=\"currentColor\" x=\"200\">VERB</tspan>\\n</text>\\n\\n<text class=\"displacy-token\" fill=\"currentColor\" text-anchor=\"middle\" y=\"272.0\">\\n    <tspan class=\"displacy-word\" fill=\"currentColor\" x=\"350\">the</tspan>\\n    <tspan class=\"displacy-tag\" dy=\"2em\" fill=\"currentColor\" x=\"350\">DET</tspan>\\n</text>\\n\\n<text class=\"displacy-token\" fill=\"currentColor\" text-anchor=\"middle\" y=\"272.0\">\\n    <tspan class=\"displacy-word\" fill=\"currentColor\" x=\"500\">fingerprints</tspan>\\n    <tspan class=\"displacy-tag\" dy=\"2em\" fill=\"currentColor\" x=\"500\">NOUN</tspan>\\n</text>\\n\\n<text class=\"displacy-token\" fill=\"currentColor\" text-anchor=\"middle\" y=\"272.0\">\\n    <tspan class=\"displacy-word\" fill=\"currentColor\" x=\"650\">from</tspan>\\n    <tspan class=\"displacy-tag\" dy=\"2em\" fill=\"currentColor\" x=\"650\">ADP</tspan>\\n</text>\\n\\n<text class=\"displacy-token\" fill=\"currentColor\" text-anchor=\"middle\" y=\"272.0\">\\n    <tspan class=\"displacy-word\" fill=\"currentColor\" x=\"800\">the</tspan>\\n    <tspan class=\"displacy-tag\" dy=\"2em\" fill=\"currentColor\" x=\"800\">DET</tspan>\\n</text>\\n\\n<text class=\"displacy-token\" fill=\"currentColor\" text-anchor=\"middle\" y=\"272.0\">\\n    <tspan class=\"displacy-word\" fill=\"currentColor\" x=\"950\">counter.</tspan>\\n    <tspan class=\"displacy-tag\" dy=\"2em\" fill=\"currentColor\" x=\"950\">NOUN</tspan>\\n</text>\\n\\n<g class=\"displacy-arrow\">\\n    <path class=\"displacy-arc\" id=\"arrow-0-0\" stroke-width=\"2px\" d=\"M62,227.0 62,202.0 194.0,202.0 194.0,227.0\" fill=\"none\" stroke=\"currentColor\"/>\\n    <text dy=\"1.25em\" style=\"font-size: 0.8em; letter-spacing: 1px\">\\n        <textPath xlink:href=\"#arrow-0-0\" class=\"displacy-label\" startOffset=\"50%\" fill=\"currentColor\" text-anchor=\"middle\">nsubj</textPath>\\n    </text>\\n    <path class=\"displacy-arrowhead\" d=\"M62,229.0 L58,221.0 66,221.0\" fill=\"currentColor\"/>\\n</g>\\n\\n<g class=\"displacy-arrow\">\\n    <path class=\"displacy-arc\" id=\"arrow-0-1\" stroke-width=\"2px\" d=\"M362,227.0 362,202.0 494.0,202.0 494.0,227.0\" fill=\"none\" stroke=\"currentColor\"/>\\n    <text dy=\"1.25em\" style=\"font-size: 0.8em; letter-spacing: 1px\">\\n        <textPath xlink:href=\"#arrow-0-1\" class=\"displacy-label\" startOffset=\"50%\" fill=\"currentColor\" text-anchor=\"middle\">det</textPath>\\n    </text>\\n    <path class=\"displacy-arrowhead\" d=\"M362,229.0 L358,221.0 366,221.0\" fill=\"currentColor\"/>\\n</g>\\n\\n<g class=\"displacy-arrow\">\\n    <path class=\"displacy-arc\" id=\"arrow-0-2\" stroke-width=\"2px\" d=\"M212,227.0 212,177.0 497.0,177.0 497.0,227.0\" fill=\"none\" stroke=\"currentColor\"/>\\n    <text dy=\"1.25em\" style=\"font-size: 0.8em; letter-spacing: 1px\">\\n        <textPath xlink:href=\"#arrow-0-2\" class=\"displacy-label\" startOffset=\"50%\" fill=\"currentColor\" text-anchor=\"middle\">dobj</textPath>\\n    </text>\\n    <path class=\"displacy-arrowhead\" d=\"M497.0,229.0 L501.0,221.0 493.0,221.0\" fill=\"currentColor\"/>\\n</g>\\n\\n<g class=\"displacy-arrow\">\\n    <path class=\"displacy-arc\" id=\"arrow-0-3\" stroke-width=\"2px\" d=\"M212,227.0 212,152.0 650.0,152.0 650.0,227.0\" fill=\"none\" stroke=\"currentColor\"/>\\n    <text dy=\"1.25em\" style=\"font-size: 0.8em; letter-spacing: 1px\">\\n        <textPath xlink:href=\"#arrow-0-3\" class=\"displacy-label\" startOffset=\"50%\" fill=\"currentColor\" text-anchor=\"middle\">prep</textPath>\\n    </text>\\n    <path class=\"displacy-arrowhead\" d=\"M650.0,229.0 L654.0,221.0 646.0,221.0\" fill=\"currentColor\"/>\\n</g>\\n\\n<g class=\"displacy-arrow\">\\n    <path class=\"displacy-arc\" id=\"arrow-0-4\" stroke-width=\"2px\" d=\"M812,227.0 812,202.0 944.0,202.0 944.0,227.0\" fill=\"none\" stroke=\"currentColor\"/>\\n    <text dy=\"1.25em\" style=\"font-size: 0.8em; letter-spacing: 1px\">\\n        <textPath xlink:href=\"#arrow-0-4\" class=\"displacy-label\" startOffset=\"50%\" fill=\"currentColor\" text-anchor=\"middle\">det</textPath>\\n    </text>\\n    <path class=\"displacy-arrowhead\" d=\"M812,229.0 L808,221.0 816,221.0\" fill=\"currentColor\"/>\\n</g>\\n\\n<g class=\"displacy-arrow\">\\n    <path class=\"displacy-arc\" id=\"arrow-0-5\" stroke-width=\"2px\" d=\"M662,227.0 662,177.0 947.0,177.0 947.0,227.0\" fill=\"none\" stroke=\"currentColor\"/>\\n    <text dy=\"1.25em\" style=\"font-size: 0.8em; letter-spacing: 1px\">\\n        <textPath xlink:href=\"#arrow-0-5\" class=\"displacy-label\" startOffset=\"50%\" fill=\"currentColor\" text-anchor=\"middle\">pobj</textPath>\\n    </text>\\n    <path class=\"displacy-arrowhead\" d=\"M947.0,229.0 L951.0,221.0 943.0,221.0\" fill=\"currentColor\"/>\\n</g>\\n</svg>'}],\n",
       "   'syntax': [{'arg_type': 'NP',\n",
       "     'value': 'Agent',\n",
       "     'selrestrs': {'selrestr_list': None, 'selrestr_logic': None},\n",
       "     'synrestrs': {'synrestr_list': None, 'synrestr_logic': '&'}},\n",
       "    {'arg_type': 'VERB',\n",
       "     'value': 'VERB',\n",
       "     'selrestrs': {'selrestr_list': None, 'selrestr_logic': None},\n",
       "     'synrestrs': {'synrestr_list': None, 'synrestr_logic': None}},\n",
       "    {'arg_type': 'NP',\n",
       "     'value': 'Theme',\n",
       "     'selrestrs': {'selrestr_list': None, 'selrestr_logic': None},\n",
       "     'synrestrs': {'synrestr_list': None, 'synrestr_logic': '&'}},\n",
       "    {'arg_type': 'PREP',\n",
       "     'value': 'PREP',\n",
       "     'selrestrs': {'selrestr_list': [{'value': '+', 'type': 'src'}],\n",
       "      'selrestr_logic': '&'},\n",
       "     'synrestrs': {'synrestr_list': None, 'synrestr_logic': None}},\n",
       "    {'arg_type': 'NP',\n",
       "     'value': 'Source',\n",
       "     'selrestrs': {'selrestr_list': None, 'selrestr_logic': None},\n",
       "     'synrestrs': {'synrestr_list': None, 'synrestr_logic': '&'}}],\n",
       "   'semantics': [{'predicate': 'cause',\n",
       "     'args': [{'arg_type': 'ThemRole', 'value': 'Agent'},\n",
       "      {'arg_type': 'Event', 'value': 'E'}]},\n",
       "    {'predicate': 'path_rel',\n",
       "     'args': [{'arg_type': 'Event', 'value': 'start(E)'},\n",
       "      {'arg_type': 'ThemRole', 'value': 'Theme'},\n",
       "      {'arg_type': 'ThemRole', 'value': 'Source'},\n",
       "      {'arg_type': 'Constant', 'value': 'ch_of_loc'},\n",
       "      {'arg_type': 'VerbSpecific', 'value': 'prep'}]},\n",
       "    {'predicate': 'path_rel',\n",
       "     'args': [{'arg_type': 'Event', 'value': 'end(E)'},\n",
       "      {'arg_type': 'ThemRole', 'value': 'Theme'},\n",
       "      {'arg_type': 'ThemRole', 'value': '?Destination'},\n",
       "      {'arg_type': 'Constant', 'value': 'ch_of_loc'},\n",
       "      {'arg_type': 'VerbSpecific', 'value': 'prep'}]}]},\n",
       "  {'description': {'primary': 'NP V NP.source',\n",
       "    'secondary': 'Transitive; Source Object',\n",
       "    'number': '0.2',\n",
       "    'xtag': '0.2'},\n",
       "   'examples': [{'example_text': 'Brian wiped the counter.',\n",
       "     'svg': '<svg xmlns=\"http://www.w3.org/2000/svg\" xmlns:xlink=\"http://www.w3.org/1999/xlink\" id=\"0\" class=\"displacy\" width=\"650\" height=\"287.0\" style=\"max-width: none; height: 287.0px; color: #000000; background: #ffffff; font-family: Arial\">\\n<text class=\"displacy-token\" fill=\"currentColor\" text-anchor=\"middle\" y=\"197.0\">\\n    <tspan class=\"displacy-word\" fill=\"currentColor\" x=\"50\">Brian</tspan>\\n    <tspan class=\"displacy-tag\" dy=\"2em\" fill=\"currentColor\" x=\"50\">PROPN</tspan>\\n</text>\\n\\n<text class=\"displacy-token\" fill=\"currentColor\" text-anchor=\"middle\" y=\"197.0\">\\n    <tspan class=\"displacy-word\" fill=\"currentColor\" x=\"200\">wiped</tspan>\\n    <tspan class=\"displacy-tag\" dy=\"2em\" fill=\"currentColor\" x=\"200\">VERB</tspan>\\n</text>\\n\\n<text class=\"displacy-token\" fill=\"currentColor\" text-anchor=\"middle\" y=\"197.0\">\\n    <tspan class=\"displacy-word\" fill=\"currentColor\" x=\"350\">the</tspan>\\n    <tspan class=\"displacy-tag\" dy=\"2em\" fill=\"currentColor\" x=\"350\">DET</tspan>\\n</text>\\n\\n<text class=\"displacy-token\" fill=\"currentColor\" text-anchor=\"middle\" y=\"197.0\">\\n    <tspan class=\"displacy-word\" fill=\"currentColor\" x=\"500\">counter.</tspan>\\n    <tspan class=\"displacy-tag\" dy=\"2em\" fill=\"currentColor\" x=\"500\">NOUN</tspan>\\n</text>\\n\\n<g class=\"displacy-arrow\">\\n    <path class=\"displacy-arc\" id=\"arrow-0-0\" stroke-width=\"2px\" d=\"M62,152.0 62,127.0 197.0,127.0 197.0,152.0\" fill=\"none\" stroke=\"currentColor\"/>\\n    <text dy=\"1.25em\" style=\"font-size: 0.8em; letter-spacing: 1px\">\\n        <textPath xlink:href=\"#arrow-0-0\" class=\"displacy-label\" startOffset=\"50%\" fill=\"currentColor\" text-anchor=\"middle\">nsubj</textPath>\\n    </text>\\n    <path class=\"displacy-arrowhead\" d=\"M62,154.0 L58,146.0 66,146.0\" fill=\"currentColor\"/>\\n</g>\\n\\n<g class=\"displacy-arrow\">\\n    <path class=\"displacy-arc\" id=\"arrow-0-1\" stroke-width=\"2px\" d=\"M362,152.0 362,127.0 497.0,127.0 497.0,152.0\" fill=\"none\" stroke=\"currentColor\"/>\\n    <text dy=\"1.25em\" style=\"font-size: 0.8em; letter-spacing: 1px\">\\n        <textPath xlink:href=\"#arrow-0-1\" class=\"displacy-label\" startOffset=\"50%\" fill=\"currentColor\" text-anchor=\"middle\">det</textPath>\\n    </text>\\n    <path class=\"displacy-arrowhead\" d=\"M362,154.0 L358,146.0 366,146.0\" fill=\"currentColor\"/>\\n</g>\\n\\n<g class=\"displacy-arrow\">\\n    <path class=\"displacy-arc\" id=\"arrow-0-2\" stroke-width=\"2px\" d=\"M212,152.0 212,102.0 500.0,102.0 500.0,152.0\" fill=\"none\" stroke=\"currentColor\"/>\\n    <text dy=\"1.25em\" style=\"font-size: 0.8em; letter-spacing: 1px\">\\n        <textPath xlink:href=\"#arrow-0-2\" class=\"displacy-label\" startOffset=\"50%\" fill=\"currentColor\" text-anchor=\"middle\">dobj</textPath>\\n    </text>\\n    <path class=\"displacy-arrowhead\" d=\"M500.0,154.0 L504.0,146.0 496.0,146.0\" fill=\"currentColor\"/>\\n</g>\\n</svg>'}],\n",
       "   'syntax': [{'arg_type': 'NP',\n",
       "     'value': 'Agent',\n",
       "     'selrestrs': {'selrestr_list': None, 'selrestr_logic': None},\n",
       "     'synrestrs': {'synrestr_list': None, 'synrestr_logic': '&'}},\n",
       "    {'arg_type': 'VERB',\n",
       "     'value': 'VERB',\n",
       "     'selrestrs': {'selrestr_list': None, 'selrestr_logic': None},\n",
       "     'synrestrs': {'synrestr_list': None, 'synrestr_logic': None}},\n",
       "    {'arg_type': 'NP',\n",
       "     'value': 'Source',\n",
       "     'selrestrs': {'selrestr_list': None, 'selrestr_logic': None},\n",
       "     'synrestrs': {'synrestr_list': None, 'synrestr_logic': '&'}}],\n",
       "   'semantics': [{'predicate': 'cause',\n",
       "     'args': [{'arg_type': 'ThemRole', 'value': 'Agent'},\n",
       "      {'arg_type': 'Event', 'value': 'E'}]},\n",
       "    {'predicate': 'path_rel',\n",
       "     'args': [{'arg_type': 'Event', 'value': 'start(E)'},\n",
       "      {'arg_type': 'ThemRole', 'value': '?Theme'},\n",
       "      {'arg_type': 'ThemRole', 'value': 'Source'},\n",
       "      {'arg_type': 'Constant', 'value': 'ch_of_loc'},\n",
       "      {'arg_type': 'VerbSpecific', 'value': 'prep'}]},\n",
       "    {'predicate': 'path_rel',\n",
       "     'args': [{'arg_type': 'Event', 'value': 'end(E)'},\n",
       "      {'arg_type': 'ThemRole', 'value': '?Theme'},\n",
       "      {'arg_type': 'ThemRole', 'value': '?Destination'},\n",
       "      {'arg_type': 'Constant', 'value': 'ch_of_loc'},\n",
       "      {'arg_type': 'VerbSpecific', 'value': 'prep'}]}]},\n",
       "  {'description': {'primary': 'NP V NP.theme',\n",
       "    'secondary': 'Transitive; Theme Object',\n",
       "    'number': '',\n",
       "    'xtag': ''},\n",
       "   'examples': [{'example_text': 'Barry Cryer erased the writing.',\n",
       "     'svg': '<svg xmlns=\"http://www.w3.org/2000/svg\" xmlns:xlink=\"http://www.w3.org/1999/xlink\" id=\"0\" class=\"displacy\" width=\"800\" height=\"287.0\" style=\"max-width: none; height: 287.0px; color: #000000; background: #ffffff; font-family: Arial\">\\n<text class=\"displacy-token\" fill=\"currentColor\" text-anchor=\"middle\" y=\"197.0\">\\n    <tspan class=\"displacy-word\" fill=\"currentColor\" x=\"50\">Barry</tspan>\\n    <tspan class=\"displacy-tag\" dy=\"2em\" fill=\"currentColor\" x=\"50\">PROPN</tspan>\\n</text>\\n\\n<text class=\"displacy-token\" fill=\"currentColor\" text-anchor=\"middle\" y=\"197.0\">\\n    <tspan class=\"displacy-word\" fill=\"currentColor\" x=\"200\">Cryer</tspan>\\n    <tspan class=\"displacy-tag\" dy=\"2em\" fill=\"currentColor\" x=\"200\">PROPN</tspan>\\n</text>\\n\\n<text class=\"displacy-token\" fill=\"currentColor\" text-anchor=\"middle\" y=\"197.0\">\\n    <tspan class=\"displacy-word\" fill=\"currentColor\" x=\"350\">erased</tspan>\\n    <tspan class=\"displacy-tag\" dy=\"2em\" fill=\"currentColor\" x=\"350\">VERB</tspan>\\n</text>\\n\\n<text class=\"displacy-token\" fill=\"currentColor\" text-anchor=\"middle\" y=\"197.0\">\\n    <tspan class=\"displacy-word\" fill=\"currentColor\" x=\"500\">the</tspan>\\n    <tspan class=\"displacy-tag\" dy=\"2em\" fill=\"currentColor\" x=\"500\">DET</tspan>\\n</text>\\n\\n<text class=\"displacy-token\" fill=\"currentColor\" text-anchor=\"middle\" y=\"197.0\">\\n    <tspan class=\"displacy-word\" fill=\"currentColor\" x=\"650\">writing.</tspan>\\n    <tspan class=\"displacy-tag\" dy=\"2em\" fill=\"currentColor\" x=\"650\">NOUN</tspan>\\n</text>\\n\\n<g class=\"displacy-arrow\">\\n    <path class=\"displacy-arc\" id=\"arrow-0-0\" stroke-width=\"2px\" d=\"M62,152.0 62,127.0 197.0,127.0 197.0,152.0\" fill=\"none\" stroke=\"currentColor\"/>\\n    <text dy=\"1.25em\" style=\"font-size: 0.8em; letter-spacing: 1px\">\\n        <textPath xlink:href=\"#arrow-0-0\" class=\"displacy-label\" startOffset=\"50%\" fill=\"currentColor\" text-anchor=\"middle\">compound</textPath>\\n    </text>\\n    <path class=\"displacy-arrowhead\" d=\"M62,154.0 L58,146.0 66,146.0\" fill=\"currentColor\"/>\\n</g>\\n\\n<g class=\"displacy-arrow\">\\n    <path class=\"displacy-arc\" id=\"arrow-0-1\" stroke-width=\"2px\" d=\"M212,152.0 212,127.0 347.0,127.0 347.0,152.0\" fill=\"none\" stroke=\"currentColor\"/>\\n    <text dy=\"1.25em\" style=\"font-size: 0.8em; letter-spacing: 1px\">\\n        <textPath xlink:href=\"#arrow-0-1\" class=\"displacy-label\" startOffset=\"50%\" fill=\"currentColor\" text-anchor=\"middle\">nsubj</textPath>\\n    </text>\\n    <path class=\"displacy-arrowhead\" d=\"M212,154.0 L208,146.0 216,146.0\" fill=\"currentColor\"/>\\n</g>\\n\\n<g class=\"displacy-arrow\">\\n    <path class=\"displacy-arc\" id=\"arrow-0-2\" stroke-width=\"2px\" d=\"M512,152.0 512,127.0 647.0,127.0 647.0,152.0\" fill=\"none\" stroke=\"currentColor\"/>\\n    <text dy=\"1.25em\" style=\"font-size: 0.8em; letter-spacing: 1px\">\\n        <textPath xlink:href=\"#arrow-0-2\" class=\"displacy-label\" startOffset=\"50%\" fill=\"currentColor\" text-anchor=\"middle\">det</textPath>\\n    </text>\\n    <path class=\"displacy-arrowhead\" d=\"M512,154.0 L508,146.0 516,146.0\" fill=\"currentColor\"/>\\n</g>\\n\\n<g class=\"displacy-arrow\">\\n    <path class=\"displacy-arc\" id=\"arrow-0-3\" stroke-width=\"2px\" d=\"M362,152.0 362,102.0 650.0,102.0 650.0,152.0\" fill=\"none\" stroke=\"currentColor\"/>\\n    <text dy=\"1.25em\" style=\"font-size: 0.8em; letter-spacing: 1px\">\\n        <textPath xlink:href=\"#arrow-0-3\" class=\"displacy-label\" startOffset=\"50%\" fill=\"currentColor\" text-anchor=\"middle\">dobj</textPath>\\n    </text>\\n    <path class=\"displacy-arrowhead\" d=\"M650.0,154.0 L654.0,146.0 646.0,146.0\" fill=\"currentColor\"/>\\n</g>\\n</svg>'}],\n",
       "   'syntax': [{'arg_type': 'NP',\n",
       "     'value': 'Agent',\n",
       "     'selrestrs': {'selrestr_list': None, 'selrestr_logic': None},\n",
       "     'synrestrs': {'synrestr_list': None, 'synrestr_logic': '&'}},\n",
       "    {'arg_type': 'VERB',\n",
       "     'value': 'VERB',\n",
       "     'selrestrs': {'selrestr_list': None, 'selrestr_logic': None},\n",
       "     'synrestrs': {'synrestr_list': None, 'synrestr_logic': None}},\n",
       "    {'arg_type': 'NP',\n",
       "     'value': 'Theme',\n",
       "     'selrestrs': {'selrestr_list': None, 'selrestr_logic': None},\n",
       "     'synrestrs': {'synrestr_list': None, 'synrestr_logic': '&'}}],\n",
       "   'semantics': [{'predicate': 'cause',\n",
       "     'args': [{'arg_type': 'ThemRole', 'value': 'Agent'},\n",
       "      {'arg_type': 'Event', 'value': 'E'}]},\n",
       "    {'predicate': 'path_rel',\n",
       "     'args': [{'arg_type': 'Event', 'value': 'start(E)'},\n",
       "      {'arg_type': 'ThemRole', 'value': 'Theme'},\n",
       "      {'arg_type': 'ThemRole', 'value': '?Source'},\n",
       "      {'arg_type': 'Constant', 'value': 'ch_of_loc'},\n",
       "      {'arg_type': 'VerbSpecific', 'value': 'prep'}]},\n",
       "    {'predicate': 'path_rel',\n",
       "     'args': [{'arg_type': 'Event', 'value': 'end(E)'},\n",
       "      {'arg_type': 'ThemRole', 'value': 'Theme'},\n",
       "      {'arg_type': 'ThemRole', 'value': '?Destination'},\n",
       "      {'arg_type': 'Constant', 'value': 'ch_of_loc'},\n",
       "      {'arg_type': 'VerbSpecific', 'value': 'prep'}]}]}],\n",
       " 'subclasses': [{'class_id': 'wipe_manner-10.4.1-1',\n",
       "   'members': [{'name': 'bail',\n",
       "     'wn': ['bail%2:30:02', 'bail%2:30:01'],\n",
       "     'grouping': ['bail.03']},\n",
       "    {'name': 'dab', 'wn': ['dab%2:35:01', 'dab%2:35:00'], 'grouping': None},\n",
       "    {'name': 'dust', 'wn': ['dust%2:35:00'], 'grouping': ['dust.01']},\n",
       "    {'name': 'erase', 'wn': ['erase%2:35:00'], 'grouping': ['erase.02']},\n",
       "    {'name': 'lick', 'wn': ['lick%2:35:00'], 'grouping': ['lick.01']},\n",
       "    {'name': 'pluck',\n",
       "     'wn': ['pluck%2:35:00', 'pluck%2:35:03', 'pluck%2:35:01'],\n",
       "     'grouping': ['pluck.01']},\n",
       "    {'name': 'prune', 'wn': ['prune%2:35:00'], 'grouping': None},\n",
       "    {'name': 'rinse', 'wn': ['rinse%2:35:00'], 'grouping': ['rinse.01']},\n",
       "    {'name': 'rub', 'wn': ['rub%2:35:00'], 'grouping': ['rub.01']},\n",
       "    {'name': 'scour',\n",
       "     'wn': ['scour%2:35:01', 'scour%2:35:00'],\n",
       "     'grouping': ['scour.01']},\n",
       "    {'name': 'scrape', 'wn': ['scrape%2:35:02'], 'grouping': ['scrape.01']},\n",
       "    {'name': 'scratch', 'wn': ['scratch%2:35:00'], 'grouping': ['scratch.01']},\n",
       "    {'name': 'scrub', 'wn': ['scrub%2:35:00'], 'grouping': ['scrub.01']},\n",
       "    {'name': 'squeeze', 'wn': ['squeeze%2:35:05'], 'grouping': ['squeeze.01']},\n",
       "    {'name': 'strip',\n",
       "     'wn': ['strip%2:35:00',\n",
       "      'strip%2:30:06',\n",
       "      'strip%2:30:05',\n",
       "      'strip%2:35:01',\n",
       "      'strip%2:30:02',\n",
       "      'strip%2:30:12'],\n",
       "     'grouping': ['strip.01', 'strip.02', 'strip.03', 'strip.04']},\n",
       "    {'name': 'suck', 'wn': ['suck%2:34:04'], 'grouping': ['suck.01']},\n",
       "    {'name': 'suction',\n",
       "     'wn': ['suction%2:38:00', 'suction%2:29:00'],\n",
       "     'grouping': None},\n",
       "    {'name': 'swab', 'wn': ['swab%2:35:00'], 'grouping': None},\n",
       "    {'name': 'sweep',\n",
       "     'wn': ['sweep%2:35:00', 'sweep%2:35:01'],\n",
       "     'grouping': ['sweep.02']},\n",
       "    {'name': 'wash',\n",
       "     'wn': ['wash%2:35:00', 'wash%2:35:01', 'wash%2:30:05'],\n",
       "     'grouping': ['wash.01', 'wash.02']},\n",
       "    {'name': 'wear', 'wn': ['wear%2:30:00'], 'grouping': ['wear.02']},\n",
       "    {'name': 'wipe', 'wn': ['wipe%2:35:00'], 'grouping': ['wipe.01']}],\n",
       "   'themroles': [{'themrole': 'Source',\n",
       "     'selrestrs': {'selrestrs_list': [{'value': '-', 'type': 'region'}],\n",
       "      'selrestr_logic': '&'},\n",
       "     'synrestrs': {'synrestr_list': None, 'synrestr_logic': None}}],\n",
       "   'frames': [{'description': {'primary': 'NP V PP-Conative',\n",
       "      'secondary': 'Conative',\n",
       "      'number': '1.3',\n",
       "      'xtag': ''},\n",
       "     'examples': [{'example_text': 'Brian wiped at the counter.',\n",
       "       'svg': '<svg xmlns=\"http://www.w3.org/2000/svg\" xmlns:xlink=\"http://www.w3.org/1999/xlink\" id=\"0\" class=\"displacy\" width=\"800\" height=\"287.0\" style=\"max-width: none; height: 287.0px; color: #000000; background: #ffffff; font-family: Arial\">\\n<text class=\"displacy-token\" fill=\"currentColor\" text-anchor=\"middle\" y=\"197.0\">\\n    <tspan class=\"displacy-word\" fill=\"currentColor\" x=\"50\">Brian</tspan>\\n    <tspan class=\"displacy-tag\" dy=\"2em\" fill=\"currentColor\" x=\"50\">PROPN</tspan>\\n</text>\\n\\n<text class=\"displacy-token\" fill=\"currentColor\" text-anchor=\"middle\" y=\"197.0\">\\n    <tspan class=\"displacy-word\" fill=\"currentColor\" x=\"200\">wiped</tspan>\\n    <tspan class=\"displacy-tag\" dy=\"2em\" fill=\"currentColor\" x=\"200\">VERB</tspan>\\n</text>\\n\\n<text class=\"displacy-token\" fill=\"currentColor\" text-anchor=\"middle\" y=\"197.0\">\\n    <tspan class=\"displacy-word\" fill=\"currentColor\" x=\"350\">at</tspan>\\n    <tspan class=\"displacy-tag\" dy=\"2em\" fill=\"currentColor\" x=\"350\">ADP</tspan>\\n</text>\\n\\n<text class=\"displacy-token\" fill=\"currentColor\" text-anchor=\"middle\" y=\"197.0\">\\n    <tspan class=\"displacy-word\" fill=\"currentColor\" x=\"500\">the</tspan>\\n    <tspan class=\"displacy-tag\" dy=\"2em\" fill=\"currentColor\" x=\"500\">DET</tspan>\\n</text>\\n\\n<text class=\"displacy-token\" fill=\"currentColor\" text-anchor=\"middle\" y=\"197.0\">\\n    <tspan class=\"displacy-word\" fill=\"currentColor\" x=\"650\">counter.</tspan>\\n    <tspan class=\"displacy-tag\" dy=\"2em\" fill=\"currentColor\" x=\"650\">NOUN</tspan>\\n</text>\\n\\n<g class=\"displacy-arrow\">\\n    <path class=\"displacy-arc\" id=\"arrow-0-0\" stroke-width=\"2px\" d=\"M62,152.0 62,127.0 197.0,127.0 197.0,152.0\" fill=\"none\" stroke=\"currentColor\"/>\\n    <text dy=\"1.25em\" style=\"font-size: 0.8em; letter-spacing: 1px\">\\n        <textPath xlink:href=\"#arrow-0-0\" class=\"displacy-label\" startOffset=\"50%\" fill=\"currentColor\" text-anchor=\"middle\">nsubj</textPath>\\n    </text>\\n    <path class=\"displacy-arrowhead\" d=\"M62,154.0 L58,146.0 66,146.0\" fill=\"currentColor\"/>\\n</g>\\n\\n<g class=\"displacy-arrow\">\\n    <path class=\"displacy-arc\" id=\"arrow-0-1\" stroke-width=\"2px\" d=\"M212,152.0 212,127.0 347.0,127.0 347.0,152.0\" fill=\"none\" stroke=\"currentColor\"/>\\n    <text dy=\"1.25em\" style=\"font-size: 0.8em; letter-spacing: 1px\">\\n        <textPath xlink:href=\"#arrow-0-1\" class=\"displacy-label\" startOffset=\"50%\" fill=\"currentColor\" text-anchor=\"middle\">prep</textPath>\\n    </text>\\n    <path class=\"displacy-arrowhead\" d=\"M347.0,154.0 L351.0,146.0 343.0,146.0\" fill=\"currentColor\"/>\\n</g>\\n\\n<g class=\"displacy-arrow\">\\n    <path class=\"displacy-arc\" id=\"arrow-0-2\" stroke-width=\"2px\" d=\"M512,152.0 512,127.0 647.0,127.0 647.0,152.0\" fill=\"none\" stroke=\"currentColor\"/>\\n    <text dy=\"1.25em\" style=\"font-size: 0.8em; letter-spacing: 1px\">\\n        <textPath xlink:href=\"#arrow-0-2\" class=\"displacy-label\" startOffset=\"50%\" fill=\"currentColor\" text-anchor=\"middle\">det</textPath>\\n    </text>\\n    <path class=\"displacy-arrowhead\" d=\"M512,154.0 L508,146.0 516,146.0\" fill=\"currentColor\"/>\\n</g>\\n\\n<g class=\"displacy-arrow\">\\n    <path class=\"displacy-arc\" id=\"arrow-0-3\" stroke-width=\"2px\" d=\"M362,152.0 362,102.0 650.0,102.0 650.0,152.0\" fill=\"none\" stroke=\"currentColor\"/>\\n    <text dy=\"1.25em\" style=\"font-size: 0.8em; letter-spacing: 1px\">\\n        <textPath xlink:href=\"#arrow-0-3\" class=\"displacy-label\" startOffset=\"50%\" fill=\"currentColor\" text-anchor=\"middle\">pobj</textPath>\\n    </text>\\n    <path class=\"displacy-arrowhead\" d=\"M650.0,154.0 L654.0,146.0 646.0,146.0\" fill=\"currentColor\"/>\\n</g>\\n</svg>'}],\n",
       "     'syntax': [{'arg_type': 'NP',\n",
       "       'value': 'Agent',\n",
       "       'selrestrs': {'selrestr_list': None, 'selrestr_logic': None},\n",
       "       'synrestrs': {'synrestr_list': None, 'synrestr_logic': '&'}},\n",
       "      {'arg_type': 'VERB',\n",
       "       'value': 'VERB',\n",
       "       'selrestrs': {'selrestr_list': None, 'selrestr_logic': None},\n",
       "       'synrestrs': {'synrestr_list': None, 'synrestr_logic': None}},\n",
       "      {'arg_type': 'LEX',\n",
       "       'value': 'at',\n",
       "       'selrestrs': {'selrestr_list': None, 'selrestr_logic': None},\n",
       "       'synrestrs': {'synrestr_list': None, 'synrestr_logic': None}},\n",
       "      {'arg_type': 'NP',\n",
       "       'value': 'Source',\n",
       "       'selrestrs': {'selrestr_list': None, 'selrestr_logic': None},\n",
       "       'synrestrs': {'synrestr_list': None, 'synrestr_logic': '&'}}],\n",
       "     'semantics': [{'predicate': 'cause',\n",
       "       'args': [{'arg_type': 'ThemRole', 'value': 'Agent'},\n",
       "        {'arg_type': 'Event', 'value': 'E'}]},\n",
       "      {'predicate': 'path_rel',\n",
       "       'args': [{'arg_type': 'Event', 'value': 'start(E)'},\n",
       "        {'arg_type': 'ThemRole', 'value': '?Theme'},\n",
       "        {'arg_type': 'ThemRole', 'value': 'Source'},\n",
       "        {'arg_type': 'Constant', 'value': 'ch_of_loc'},\n",
       "        {'arg_type': 'VerbSpecific', 'value': 'prep'}]}]}],\n",
       "   'subclasses': None,\n",
       "   'resource_type': 'vn',\n",
       "   '_id': ObjectId('5b490fb3610e1a0818e78728')}],\n",
       " 'resource_type': 'vn'}"
      ]
     },
     "execution_count": 9,
     "metadata": {},
     "output_type": "execute_result"
    }
   ],
   "source": [
    "db.verbnet.find({'class_id': class_id})"
   ]
  },
  {
   "cell_type": "code",
   "execution_count": null,
   "metadata": {},
   "outputs": [],
   "source": [
    "db.verbnet.find({})"
   ]
  },
  {
   "cell_type": "code",
   "execution_count": 10,
   "metadata": {},
   "outputs": [
    {
     "ename": "NameError",
     "evalue": "name 'class_ids' is not defined",
     "output_type": "error",
     "traceback": [
      "\u001b[0;31m---------------------------------------------------------------------------\u001b[0m",
      "\u001b[0;31mNameError\u001b[0m                                 Traceback (most recent call last)",
      "\u001b[0;32m<ipython-input-10-e946eddf27f6>\u001b[0m in \u001b[0;36m<module>\u001b[0;34m()\u001b[0m\n\u001b[0;32m----> 1\u001b[0;31m \u001b[0mlist\u001b[0m\u001b[0;34m(\u001b[0m\u001b[0mdb\u001b[0m\u001b[0;34m.\u001b[0m\u001b[0mverbnet\u001b[0m\u001b[0;34m.\u001b[0m\u001b[0mfind\u001b[0m\u001b[0;34m(\u001b[0m\u001b[0;34m{\u001b[0m\u001b[0;34m'class_id'\u001b[0m\u001b[0;34m:\u001b[0m \u001b[0;34m{\u001b[0m\u001b[0;34m'$in'\u001b[0m\u001b[0;34m:\u001b[0m \u001b[0mclass_ids\u001b[0m\u001b[0;34m}\u001b[0m\u001b[0;34m}\u001b[0m\u001b[0;34m)\u001b[0m\u001b[0;34m)\u001b[0m\u001b[0;34m\u001b[0m\u001b[0m\n\u001b[0m",
      "\u001b[0;31mNameError\u001b[0m: name 'class_ids' is not defined"
     ]
    }
   ],
   "source": [
    "list(db.verbnet.find({'class_id': {'$in': class_ids}}))"
   ]
  },
  {
   "cell_type": "code",
   "execution_count": null,
   "metadata": {},
   "outputs": [],
   "source": []
  },
  {
   "cell_type": "code",
   "execution_count": null,
   "metadata": {},
   "outputs": [],
   "source": []
  },
  {
   "cell_type": "code",
   "execution_count": null,
   "metadata": {},
   "outputs": [],
   "source": [
    "class_ids = ['carry-11.4', 'use-105.1', 'bump-18.4']"
   ]
  },
  {
   "cell_type": "code",
   "execution_count": null,
   "metadata": {},
   "outputs": [],
   "source": []
  },
  {
   "cell_type": "code",
   "execution_count": null,
   "metadata": {},
   "outputs": [],
   "source": [
    "list(db.verbnet.find({'class_id': {'$in': class_ids}}))"
   ]
  },
  {
   "cell_type": "code",
   "execution_count": null,
   "metadata": {},
   "outputs": [],
   "source": [
    "from bson import ObjectId\n",
    "db.verbnet.find_one({'_id':ObjectId('5b43f7d6e6d18129a6eef73c')})"
   ]
  },
  {
   "cell_type": "code",
   "execution_count": null,
   "metadata": {},
   "outputs": [],
   "source": [
    "const = 'ch_on_scale'\n",
    "list(db.verbnet.find({'frames.semantics.args.arg_type':'VerbSpecific','frames.semantics.args.value':'prep'}))"
   ]
  },
  {
   "cell_type": "code",
   "execution_count": null,
   "metadata": {},
   "outputs": [],
   "source": []
  },
  {
   "cell_type": "code",
   "execution_count": null,
   "metadata": {},
   "outputs": [],
   "source": []
  },
  {
   "cell_type": "code",
   "execution_count": null,
   "metadata": {},
   "outputs": [],
   "source": [
    "# class_id = 'escape-51.1-1-1-2'\n",
    "class_id = 'become-109.1-1'"
   ]
  },
  {
   "cell_type": "code",
   "execution_count": null,
   "metadata": {},
   "outputs": [],
   "source": [
    "synrestr_fields = db['verbnet'].find_one({ 'class_id': class_id, 'themroles.themrole':'Agent'}, {'themroles.themrole.$':1})"
   ]
  },
  {
   "cell_type": "code",
   "execution_count": null,
   "metadata": {},
   "outputs": [],
   "source": [
    "synrestr_fields"
   ]
  },
  {
   "cell_type": "code",
   "execution_count": null,
   "metadata": {},
   "outputs": [],
   "source": []
  },
  {
   "cell_type": "code",
   "execution_count": null,
   "metadata": {},
   "outputs": [],
   "source": []
  },
  {
   "cell_type": "code",
   "execution_count": null,
   "metadata": {},
   "outputs": [],
   "source": []
  },
  {
   "cell_type": "code",
   "execution_count": null,
   "metadata": {},
   "outputs": [],
   "source": []
  },
  {
   "cell_type": "code",
   "execution_count": null,
   "metadata": {},
   "outputs": [],
   "source": [
    "def full_class_hierarchy_tree(class_id):\n",
    "    top_parent_id = ('-').join(class_id.split('-')[:2])\n",
    "    top_parent_class = db['verbnet'].find_one({'class_id': top_parent_id})\n",
    "    def get_subclass_ids(parent_class_id):\n",
    "        subclasses_list = db['verbnet'].find_one({'class_id': parent_class_id})['subclasses']\n",
    "        if subclasses_list:\n",
    "            return [subclass['class_id'] for subclass in subclasses_list]\n",
    "        else:\n",
    "            return None\n",
    "\n",
    "    def subclass_hierarchy_tree(parent_id, depth_counter):\n",
    "        subclasses = get_subclass_ids(parent_id)\n",
    "        \n",
    "        html_string = ''\n",
    "        \n",
    "        if subclasses == None:\n",
    "            return html_string\n",
    "        \n",
    "        else:\n",
    "            for subclass in subclasses:\n",
    "                html_string += '&nbsp' * depth_counter + subclass + '<br />'\n",
    "\n",
    "                html_string += subclass_hierarchy_tree(subclass, depth_counter+1)\n",
    "            return html_string\n",
    "            \n",
    "    return top_parent_id + subclass_hierarchy_tree(top_parent_id, 1)"
   ]
  },
  {
   "cell_type": "code",
   "execution_count": null,
   "metadata": {},
   "outputs": [],
   "source": [
    "full_class_hierarchy_tree(class_id)"
   ]
  },
  {
   "cell_type": "code",
   "execution_count": null,
   "metadata": {},
   "outputs": [],
   "source": [
    "def full_class_hierarchy_tree(class_id):\n",
    "    top_parent_id = ('-').join(class_id.split('-')[:2])\n",
    "    top_parent_class = db['verbnet'].find_one({'class_id': top_parent_id})\n",
    "    def get_subclass_ids(parent_class_id):\n",
    "        subclasses_list = db['verbnet'].find_one({'class_id': parent_class_id})['subclasses']\n",
    "        if subclasses_list:\n",
    "            return [subclass['class_id'] for subclass in subclasses_list]\n",
    "        else:\n",
    "            return None\n",
    "\n",
    "    def subclass_hierarchy_tree(parent_id):\n",
    "        subclasses = get_subclass_ids(parent_id)\n",
    "        if subclasses is not None:\n",
    "            level_dict = {parent_id:[]}\n",
    "            for subclass in subclasses:\n",
    "                level_dict[parent_id].append(subclass_hierarchy_tree(subclass))\n",
    "            return level_dict\n",
    "        else:\n",
    "            return {parent_id:None}\n",
    "        \n",
    "    return subclass_hierarchy_tree(top_parent_id)"
   ]
  },
  {
   "cell_type": "code",
   "execution_count": null,
   "metadata": {},
   "outputs": [],
   "source": [
    "full_class_hierarchy_tree(class_id)"
   ]
  },
  {
   "cell_type": "code",
   "execution_count": null,
   "metadata": {},
   "outputs": [],
   "source": [
    "def hierarchy_tree_html(hierarchy_tree, nesting_level):\n",
    "    html_string = ''\n",
    "    for vn_class_dict in [hierarchy_tree]:\n",
    "        vn_classes = list(vn_class_dict:)\n",
    "        for vn_class in vn_classes:\n",
    "            for i in range(nesting_level):\n",
    "                html_string += '%nbsp'\n",
    "            html_string += vn_class+'<br />'\n",
    "            print(html_string)\n",
    "            print(type(vn_class))\n",
    "            html_string += hierarchy_tree_html(hierarchy_tree[vn_class], nesting_level+1)\n",
    "    return html_string"
   ]
  },
  {
   "cell_type": "code",
   "execution_count": null,
   "metadata": {},
   "outputs": [],
   "source": [
    "hierarchy_tree_html(full_class_hierarchy_tree(class_id),0)"
   ]
  },
  {
   "cell_type": "code",
   "execution_count": null,
   "metadata": {},
   "outputs": [],
   "source": []
  },
  {
   "cell_type": "code",
   "execution_count": null,
   "metadata": {},
   "outputs": [],
   "source": []
  },
  {
   "cell_type": "code",
   "execution_count": null,
   "metadata": {},
   "outputs": [],
   "source": [
    "get_subclass_ids('escape-51.1-1-1')"
   ]
  },
  {
   "cell_type": "code",
   "execution_count": null,
   "metadata": {},
   "outputs": [],
   "source": []
  },
  {
   "cell_type": "code",
   "execution_count": null,
   "metadata": {},
   "outputs": [],
   "source": []
  },
  {
   "cell_type": "code",
   "execution_count": null,
   "metadata": {},
   "outputs": [],
   "source": []
  },
  {
   "cell_type": "code",
   "execution_count": null,
   "metadata": {},
   "outputs": [],
   "source": []
  },
  {
   "cell_type": "code",
   "execution_count": null,
   "metadata": {},
   "outputs": [],
   "source": []
  },
  {
   "cell_type": "code",
   "execution_count": null,
   "metadata": {},
   "outputs": [],
   "source": []
  },
  {
   "cell_type": "code",
   "execution_count": null,
   "metadata": {},
   "outputs": [],
   "source": [
    "parents = [('-').join(class_id.split('-')[:x]) for x in range(2, len(class_id.split('-'))+1)]"
   ]
  },
  {
   "cell_type": "code",
   "execution_count": null,
   "metadata": {},
   "outputs": [],
   "source": []
  },
  {
   "cell_type": "code",
   "execution_count": null,
   "metadata": {},
   "outputs": [],
   "source": []
  },
  {
   "cell_type": "code",
   "execution_count": null,
   "metadata": {},
   "outputs": [],
   "source": []
  },
  {
   "cell_type": "code",
   "execution_count": null,
   "metadata": {},
   "outputs": [],
   "source": []
  },
  {
   "cell_type": "code",
   "execution_count": null,
   "metadata": {},
   "outputs": [],
   "source": []
  },
  {
   "cell_type": "code",
   "execution_count": null,
   "metadata": {},
   "outputs": [],
   "source": []
  },
  {
   "cell_type": "code",
   "execution_count": null,
   "metadata": {},
   "outputs": [],
   "source": [
    "def get_selrestrs(class_id, themrole_name_stripped):\n",
    "    #Get Class ID's for parent classes of current class (returned list includes the original class)\n",
    "    selrestr_list = None\n",
    "    selrestr_logic = None\n",
    "    parents = [('-').join(class_id.split('-')[:x]) for x in range(2, len(class_id.split('-'))+1)]\n",
    "    for parent_class_id in parents:\n",
    "        selrestr_fields = db['verbnet'].find_one({ 'class_id': parent_class_id, 'themroles.themrole':themrole_name_stripped}, {'themroles.themrole.$':1})\n",
    "        if not selrestr_fields:\n",
    "            print('hi')\n",
    "        else:\n",
    "            selrestr_list = selrestr_fields['themroles'][0]['selrestrs']['selrestrs_list']\n",
    "            selrestr_logic = selrestr_fields['themroles'][0]['selrestrs']['selrestr_logic']\n",
    "    return (selrestr_list, selrestr_logic)"
   ]
  },
  {
   "cell_type": "code",
   "execution_count": null,
   "metadata": {},
   "outputs": [],
   "source": [
    "get_selrestrs('hurt-40.8.3-1-1', 'Patient')"
   ]
  },
  {
   "cell_type": "code",
   "execution_count": null,
   "metadata": {},
   "outputs": [],
   "source": [
    "class_id = 'escape-51.1'\n",
    "themrole_name_stripped = 'Theme'\n",
    "selrestr_fields = db['verbnet'].find_one({ 'class_id': class_id, 'themroles.themrole':themrole_name_stripped}, {'themroles.themrole.$':1})"
   ]
  },
  {
   "cell_type": "code",
   "execution_count": null,
   "metadata": {},
   "outputs": [],
   "source": [
    "selrestr_fields"
   ]
  },
  {
   "cell_type": "code",
   "execution_count": null,
   "metadata": {},
   "outputs": [],
   "source": []
  },
  {
   "cell_type": "code",
   "execution_count": null,
   "metadata": {},
   "outputs": [],
   "source": []
  },
  {
   "cell_type": "code",
   "execution_count": null,
   "metadata": {},
   "outputs": [],
   "source": []
  },
  {
   "cell_type": "code",
   "execution_count": null,
   "metadata": {},
   "outputs": [],
   "source": [
    "themroles = some_vn_class['themroles']\n",
    "themroles"
   ]
  },
  {
   "cell_type": "code",
   "execution_count": null,
   "metadata": {},
   "outputs": [],
   "source": [
    "selrestr_fields = db['verbnet'].find_one({ 'class_id': 'fill-9.8', 'themroles.themrole':'Theme'}, {'themroles.themrole.$':1})"
   ]
  },
  {
   "cell_type": "code",
   "execution_count": null,
   "metadata": {},
   "outputs": [],
   "source": [
    "selrestr_type = selrestr_fields['themroles'][0]['selrestrs']['selrestrs_list']['type']\n",
    "selrestr_value = selrestr_fields['themroles'][0]['selrestrs']['selrestrs_list']['value']"
   ]
  },
  {
   "cell_type": "code",
   "execution_count": null,
   "metadata": {},
   "outputs": [],
   "source": [
    "selrestr_fields['themroles'][0]['selrestrs']['selrestr_logic']"
   ]
  },
  {
   "cell_type": "code",
   "execution_count": null,
   "metadata": {},
   "outputs": [],
   "source": [
    "some_vn_class = db['verbnet'].find_one({'class_id': 'rummage-35.5-1'})\n",
    "some_vn_class"
   ]
  },
  {
   "cell_type": "code",
   "execution_count": null,
   "metadata": {},
   "outputs": [],
   "source": []
  },
  {
   "cell_type": "code",
   "execution_count": null,
   "metadata": {},
   "outputs": [],
   "source": [
    "selrestr_list = db['verbnet'].find_one({ 'class_id': 'fill-9.8', 'themroles.themrole':'Agent'}, {'themroles.themrole.$':1})['themroles'][0]['selrestrs']['selrestrs_list']\n",
    "selrestr_list"
   ]
  },
  {
   "cell_type": "code",
   "execution_count": null,
   "metadata": {},
   "outputs": [],
   "source": [
    "# some_vn_class = db['verbnet'].find()[9]\n",
    "syntax = some_vn_class['frames'][2]['syntax']\n",
    "syntax"
   ]
  },
  {
   "cell_type": "code",
   "execution_count": null,
   "metadata": {},
   "outputs": [],
   "source": [
    "output_html = ''\n",
    "for arg in syntax:\n",
    "    arg_type = arg['arg_type']\n",
    "    value = arg['value']\n",
    "    selrestrs = arg['selrestrs']\n",
    "    synrestrs = arg['synrestrs']\n",
    "    \n",
    "    if arg_type == 'NP':\n",
    "        output_html += '<span style=\"color:#5e81ac;\">' + value + '</span> '\n",
    "\n",
    "    elif arg_type == 'VERB':\n",
    "        output_html += value + ' '\n",
    "\n",
    "    elif arg_type == 'PREP':\n",
    "        if value:\n",
    "            output_html += '{ '\n",
    "            for val_index, arg_val in enumerate(value.split(' ')):\n",
    "                if val_index < len(value.split(' ')) - 1:\n",
    "                    output_html += arg_val + ' '\n",
    "                else:\n",
    "                    output_html += arg_val + ' } '\n",
    "            \n",
    "        elif selrestrs['selrestr_list']:\n",
    "            \n",
    "            output_html += '{ '\n",
    "            selrestrs_parsed = [selrestr['value'] + selrestr['type']  for selrestr in selrestrs['selrestr_list']]\n",
    "            for selrestr_index, selrestr_val in enumerate(selrestrs_parsed):\n",
    "                if selrestr_index < len(selrestrs_parsed) - 1:\n",
    "                    output_html += selrestr_val + ' ' + selrestrs['selrestr_logic'] + ' '\n",
    "                else:\n",
    "                    output_html += selrestr_val + ' } '\n",
    "\n",
    "    elif arg_type == 'LEX':\n",
    "        output_html += '(' + value.upper() + ') '\n",
    "    elif arg_type == 'ADV':\n",
    "        output_html += arg_type + ' '\n",
    "    elif arg_type == 'ADJ':\n",
    "        output_html += arg_type + ' '"
   ]
  },
  {
   "cell_type": "code",
   "execution_count": null,
   "metadata": {},
   "outputs": [],
   "source": [
    "output_html"
   ]
  },
  {
   "cell_type": "code",
   "execution_count": null,
   "metadata": {},
   "outputs": [],
   "source": [
    "db['verbnet'].find_one({'frames.syntax.arg_type':'LEX'})"
   ]
  },
  {
   "cell_type": "code",
   "execution_count": null,
   "metadata": {},
   "outputs": [],
   "source": []
  },
  {
   "cell_type": "code",
   "execution_count": null,
   "metadata": {},
   "outputs": [],
   "source": [
    "output_html = ''\n",
    "popover_body_html = ''\n",
    "\n",
    "passed_id = str(12345)\n",
    "\n",
    "for pred_index, predicate in enumerate(predicates):\n",
    "    popover_id = passed_id + str(pred_index)\n",
    "    pred_name = predicate['predicate']\n",
    "    pred_def = db['vn_predicates'].find_one({'name':pred_name})['def']\n",
    "    args_html = ''\n",
    "    for arg_index, arg in enumerate(predicate['args']):\n",
    "        if arg['arg_type'] == 'Event':\n",
    "            arg_html = '<span style=\\\"color:black;\\\">{}</span>'.format(arg['value'].upper())\n",
    "        elif arg['arg_type'] == 'ThemRole':\n",
    "            arg_html = '<span style=\\\"color:#5e81ac;\\\">{}</span>'.format(arg['value'])\n",
    "        elif arg['arg_type'] == 'Constant':\n",
    "            arg_html = '<span style=\\\"color:#a3be8c;\\\">{}</span>'.format(arg['value'])\n",
    "        elif arg['arg_type'] == 'VerbSpecific':\n",
    "            arg_html = '<span style=\\\"color:black;\\\">{}</span>'.format(arg['value'].upper())\n",
    "        else:\n",
    "            print('???????')\n",
    "        if arg_index < len(predicate['args']) - 1:\n",
    "            args_html += arg_html + ' , '\n",
    "        else:\n",
    "            args_html += arg_html\n",
    "\n",
    "    popover_body_html += '''<div id={} style='display:none;'> <div class='popover-heading'>Definition</div> <div class='popover-body'>{}</div></div>'''.format(popover_id, pred_def)\n",
    "    pred_html = '''<span style=\"color:#bf616a;\"><button tabindex='0' role=\"button\" type=\"button\" class=\"btn btn-outline-dark\" data-toggle=\"popover\" data-popover-content=\"#{}\" data-trigger='hover focus'>{}</button>(</span>{}<span style=\"color:#bf616a;\">)</span>'''.format(popover_id, pred_name.upper(),args_html)\n",
    "    output_html += popover_body_html + '<br />' + pred_html + '<br />'\n",
    "\n",
    "print(output_html)"
   ]
  },
  {
   "cell_type": "code",
   "execution_count": null,
   "metadata": {},
   "outputs": [],
   "source": []
  },
  {
   "cell_type": "code",
   "execution_count": null,
   "metadata": {},
   "outputs": [],
   "source": []
  },
  {
   "cell_type": "code",
   "execution_count": null,
   "metadata": {},
   "outputs": [],
   "source": []
  },
  {
   "cell_type": "code",
   "execution_count": null,
   "metadata": {},
   "outputs": [],
   "source": [
    "multiword_behavior = 'and'\n",
    "incl_vn = True\n",
    "incl_fn = True\n",
    "incl_pb = True\n",
    "\n",
    "matched_elements = {}\n",
    "if multiword_behavior == 'and':\n",
    "    if incl_vn:\n",
    "        matched_elements['vn'] = db.verbnet.find({'members.name': {'$all': query_string_list}})\n",
    "    if incl_fn:\n",
    "        matched_elements['fn'] = db.framenet.find({'lexical_units.lu_name': {'$all': [lemma+'.v' for lemma in query_string_list]}})\n",
    "    if incl_pb:\n",
    "        matched_elements['pb'] = db.propbank.find({'predicates.lemma': {'$all': [lemma for lemma in query_string_list]}})\n",
    "    # if incl_wn:\n",
    "    # \tpass\n",
    "\n",
    "    print(matched_elements)\n",
    "\n",
    "elif multiword_behavior == 'or':\n",
    "    if incl_vn:\n",
    "        matched_elements['vn'] = db.verbnet.find({'members.name': {'$in': query_string_list}})\n",
    "    if incl_fn:\n",
    "        matched_elements['fn'] = db.framenet.find({'lexical_units.lu_name': {'$in': [lemma+'.v' for lemma in query_string_list]}})\n",
    "    if incl_pb:\n",
    "        matched_elements['pb'] = db.propbank.find({'predicates.lemma': {'$in': [lemma for lemma in query_string_list]}})\n",
    "    # if incl_wn:\n",
    "    # \tpass\n",
    "    print(matched_elements)"
   ]
  },
  {
   "cell_type": "code",
   "execution_count": null,
   "metadata": {},
   "outputs": [],
   "source": [
    "find(matching_elements)"
   ]
  },
  {
   "cell_type": "code",
   "execution_count": null,
   "metadata": {},
   "outputs": [],
   "source": [
    "def print_cursor_vn(cursor):\n",
    "    for document in cursor:\n",
    "        print(document['class_id'])\n",
    "        \n",
    "results_a = db.verbnet.find({'members.name': {'$in': query_string_list}})\n",
    "print_cursor_vn(results_a)\n",
    "print()\n",
    "results_b = db.verbnet.find({'members.name': {'$all': query_string_list}})\n",
    "print_cursor_vn(results_b)"
   ]
  },
  {
   "cell_type": "code",
   "execution_count": null,
   "metadata": {},
   "outputs": [],
   "source": []
  },
  {
   "cell_type": "code",
   "execution_count": null,
   "metadata": {},
   "outputs": [],
   "source": [
    "results_c = db.framenet.find({'lexical_units.lu_name': {'$in': [lemma+'.v' for lemma in query_string_list]}})"
   ]
  },
  {
   "cell_type": "code",
   "execution_count": null,
   "metadata": {},
   "outputs": [],
   "source": [
    "for thing in results_c:\n",
    "    for lu in thing['lexical_units']:\n",
    "        print(lu['lu_name'])\n",
    "    print()"
   ]
  },
  {
   "cell_type": "code",
   "execution_count": null,
   "metadata": {},
   "outputs": [],
   "source": [
    "results_d = db.propbank.find({'predicates.lemma': {'$in': [lemma for lemma in query_string_list]}})"
   ]
  },
  {
   "cell_type": "code",
   "execution_count": null,
   "metadata": {},
   "outputs": [],
   "source": [
    "for thing in results_d:\n",
    "    print(thing)"
   ]
  },
  {
   "cell_type": "code",
   "execution_count": null,
   "metadata": {},
   "outputs": [],
   "source": [
    "results_e = db.propbank.find({'predicates.lemma': 'jump'})"
   ]
  },
  {
   "cell_type": "code",
   "execution_count": null,
   "metadata": {},
   "outputs": [],
   "source": [
    "for thing in results_e:\n",
    "    print(thing)"
   ]
  },
  {
   "cell_type": "code",
   "execution_count": null,
   "metadata": {},
   "outputs": [],
   "source": [
    "db.propbank.find_one()"
   ]
  },
  {
   "cell_type": "code",
   "execution_count": null,
   "metadata": {},
   "outputs": [],
   "source": []
  },
  {
   "cell_type": "code",
   "execution_count": null,
   "metadata": {},
   "outputs": [],
   "source": []
  },
  {
   "cell_type": "code",
   "execution_count": null,
   "metadata": {},
   "outputs": [],
   "source": [
    "vn_class = db.verbnet.find_one()\n",
    "vn_class['frames'][0]"
   ]
  },
  {
   "cell_type": "code",
   "execution_count": null,
   "metadata": {},
   "outputs": [],
   "source": [
    "class_id = vn_class['class_id']\n",
    "members = [member['name'] for member in vn_class['members']]\n",
    "selrestr_dict = {role['themrole']: role['selrestrs'] for role in vn_class['themroles']}\n",
    "frames = vn_class['frames']\n",
    "svg = frames[0]['examples'][0]['svg']"
   ]
  },
  {
   "cell_type": "code",
   "execution_count": null,
   "metadata": {},
   "outputs": [],
   "source": [
    "db.verbnet.find_one()['frames'][2]['semantics']"
   ]
  },
  {
   "cell_type": "code",
   "execution_count": null,
   "metadata": {},
   "outputs": [],
   "source": [
    "document = db.verbnet.find_one({'class_id':'harmonize-22.6'})"
   ]
  },
  {
   "cell_type": "code",
   "execution_count": null,
   "metadata": {},
   "outputs": [],
   "source": [
    "document['frames'][0]['syntax']"
   ]
  },
  {
   "cell_type": "code",
   "execution_count": null,
   "metadata": {},
   "outputs": [],
   "source": [
    "document['members']"
   ]
  },
  {
   "cell_type": "code",
   "execution_count": null,
   "metadata": {},
   "outputs": [],
   "source": []
  },
  {
   "cell_type": "code",
   "execution_count": null,
   "metadata": {},
   "outputs": [],
   "source": []
  },
  {
   "cell_type": "code",
   "execution_count": null,
   "metadata": {},
   "outputs": [],
   "source": [
    "document = db.framenet.find_one({'name':'Leadership'})"
   ]
  },
  {
   "cell_type": "code",
   "execution_count": null,
   "metadata": {},
   "outputs": [],
   "source": [
    "document.keys()"
   ]
  },
  {
   "cell_type": "code",
   "execution_count": null,
   "metadata": {},
   "outputs": [],
   "source": [
    "document['definition']"
   ]
  },
  {
   "cell_type": "code",
   "execution_count": null,
   "metadata": {},
   "outputs": [],
   "source": [
    "document['name']"
   ]
  },
  {
   "cell_type": "code",
   "execution_count": null,
   "metadata": {},
   "outputs": [],
   "source": [
    "document['definition']['def_text_markup']"
   ]
  },
  {
   "cell_type": "code",
   "execution_count": null,
   "metadata": {},
   "outputs": [],
   "source": [
    "document['elements']"
   ]
  },
  {
   "cell_type": "code",
   "execution_count": null,
   "metadata": {},
   "outputs": [],
   "source": [
    "document['elements'][1]"
   ]
  },
  {
   "cell_type": "code",
   "execution_count": null,
   "metadata": {},
   "outputs": [],
   "source": [
    "document['lexical_units']"
   ]
  },
  {
   "cell_type": "code",
   "execution_count": null,
   "metadata": {},
   "outputs": [],
   "source": [
    "pb_doc = db.propbank.find_one()"
   ]
  },
  {
   "cell_type": "code",
   "execution_count": null,
   "metadata": {},
   "outputs": [],
   "source": [
    "pb_doc.keys()"
   ]
  },
  {
   "cell_type": "code",
   "execution_count": null,
   "metadata": {},
   "outputs": [],
   "source": [
    "pb_doc['predicates']"
   ]
  },
  {
   "cell_type": "code",
   "execution_count": null,
   "metadata": {},
   "outputs": [],
   "source": []
  },
  {
   "cell_type": "code",
   "execution_count": null,
   "metadata": {},
   "outputs": [],
   "source": [
    "a =2\n",
    "a %= 3"
   ]
  },
  {
   "cell_type": "code",
   "execution_count": null,
   "metadata": {},
   "outputs": [],
   "source": [
    "a"
   ]
  },
  {
   "cell_type": "code",
   "execution_count": null,
   "metadata": {},
   "outputs": [],
   "source": [
    "2%3"
   ]
  },
  {
   "cell_type": "code",
   "execution_count": null,
   "metadata": {},
   "outputs": [],
   "source": []
  },
  {
   "cell_type": "code",
   "execution_count": null,
   "metadata": {},
   "outputs": [],
   "source": []
  },
  {
   "cell_type": "code",
   "execution_count": null,
   "metadata": {},
   "outputs": [],
   "source": [
    "from randomcolor import RandomColor\n",
    "import re\n",
    "\n",
    "def format_framenet_def(frame):\n",
    "    def_text_markup = frame['definition']['def_text_markup']\n",
    "    frame_elements = frame['elements']\n",
    "    colors = RandomColor().generate(count=len(frame_elements))\n",
    "    color_dict = {f['fe_name']:c for f,c in zip(frame_elements, colors)}\n",
    "    color_dict_abbrev = {f['abbrev']:c for f,c in zip(frame_elements, colors)}\n",
    "    print(color_dict)\n",
    "    pattern = re.compile('<fen[^>]*>[^<]+</fen>')\n",
    "    for tagset in set(re.findall(pattern, def_text_markup)):\n",
    "        fe = tagset[5:-6]\n",
    "        try:\n",
    "            fe_color = color_dict[fe]\n",
    "        except KeyError:\n",
    "            fe_color = color_dict_abbrev[fe]\n",
    "        def_text_markup = def_text_markup.replace('<fen>'+fe,'<fen style=\"background-color:'+fe_color+';\">')\n",
    "    \n",
    "    pattern_ex = re.compile('<fex[^>]*>[^<]+</fex>')\n",
    "    example_def_markup = '<fex name=\"Cause\">An asteroid</fex> <t>obliterated</t> <fex name=\"Patient\">the dinosaurs</fex>.</def-root>'\n",
    "    pattern_ex_name = re.compile('<fex([^>]*)>')\n",
    "    ex_tags = re.findall(pattern, example_def_markup)\n",
    "    for ex_tag in ex_tags:\n",
    "        fex_name = ex_tag.split()\n",
    "    b = re.findall(pattern_2, ex_tags[0])\n",
    "    pattern_c = re.compile('<fex name=(\".+\")>.+</fex>')\n",
    "    \n",
    "    print(def_text_markup)"
   ]
  },
  {
   "cell_type": "code",
   "execution_count": null,
   "metadata": {},
   "outputs": [],
   "source": [
    "pattern_ex = re.compile('<fex[^>]*>[^<]+</fex>')\n",
    "example_def_markup = '<fex name=\"Cause\">An asteroid</fex> <t>obliterated</t> <fex name=\"Patient\">the dinosaurs</fex>.</def-root>'\n",
    "pattern_ex_name = re.compile('<fex([^>]*)>')\n",
    "ex_tags = re.findall(pattern, example_def_markup)\n",
    "for ex_tag in ex_tags:\n",
    "    name_pattern = re.compile('<fex (name=\".+\")>.+</fex>')\n",
    "    fex_name_block = re.findall(name_pattern, ex_tag)[0]\n",
    "    fex_name = fex_name_block.split('=')[1].strip('\"')\n",
    "    try:\n",
    "        fex_clor = color_dict[fex]\n",
    "        example_def_markup = example_def_markup.replace(fex_name_block, '<fex style=\"background-color:'+ fex_color+';\"')\n",
    "    except KeyError:\n",
    "        try:\n",
    "            fex_clor = color_dict_abbrev[fex]\n",
    "            example_def_markup = example_def_markup.replace(fex_name_block, '<fex style=\"background-color:'+ fex_color+';\"')\n",
    "            except KeyError:\n",
    "                pass\n",
    "        \n",
    "    \n"
   ]
  },
  {
   "cell_type": "code",
   "execution_count": null,
   "metadata": {},
   "outputs": [],
   "source": []
  },
  {
   "cell_type": "code",
   "execution_count": null,
   "metadata": {},
   "outputs": [],
   "source": []
  },
  {
   "cell_type": "code",
   "execution_count": null,
   "metadata": {},
   "outputs": [],
   "source": [
    "re.findall(name_pattern, ex_tag)"
   ]
  },
  {
   "cell_type": "code",
   "execution_count": null,
   "metadata": {},
   "outputs": [],
   "source": [
    "b = re.findall(pattern_2, ex_tags[0])\n",
    "pattern_c = "
   ]
  },
  {
   "cell_type": "code",
   "execution_count": null,
   "metadata": {},
   "outputs": [],
   "source": []
  },
  {
   "cell_type": "code",
   "execution_count": null,
   "metadata": {},
   "outputs": [],
   "source": []
  },
  {
   "cell_type": "code",
   "execution_count": null,
   "metadata": {},
   "outputs": [],
   "source": []
  },
  {
   "cell_type": "code",
   "execution_count": null,
   "metadata": {},
   "outputs": [],
   "source": []
  },
  {
   "cell_type": "code",
   "execution_count": null,
   "metadata": {},
   "outputs": [],
   "source": []
  },
  {
   "cell_type": "code",
   "execution_count": null,
   "metadata": {},
   "outputs": [],
   "source": []
  },
  {
   "cell_type": "code",
   "execution_count": null,
   "metadata": {},
   "outputs": [],
   "source": [
    "format_framenet_def(document)"
   ]
  },
  {
   "cell_type": "code",
   "execution_count": null,
   "metadata": {},
   "outputs": [],
   "source": [
    "colors = RandomColor().generate(count=len(frame_elements), luminosity='light')"
   ]
  },
  {
   "cell_type": "code",
   "execution_count": null,
   "metadata": {},
   "outputs": [],
   "source": [
    "\n",
    "re.findall(pattern_c, example_tags[0])"
   ]
  },
  {
   "cell_type": "code",
   "execution_count": null,
   "metadata": {},
   "outputs": [],
   "source": [
    "b"
   ]
  },
  {
   "cell_type": "code",
   "execution_count": null,
   "metadata": {},
   "outputs": [],
   "source": [
    "example_tags"
   ]
  },
  {
   "cell_type": "code",
   "execution_count": null,
   "metadata": {},
   "outputs": [],
   "source": []
  },
  {
   "cell_type": "code",
   "execution_count": null,
   "metadata": {},
   "outputs": [],
   "source": []
  },
  {
   "cell_type": "code",
   "execution_count": null,
   "metadata": {},
   "outputs": [],
   "source": []
  },
  {
   "cell_type": "code",
   "execution_count": null,
   "metadata": {},
   "outputs": [],
   "source": [
    "formatted_defs(document)"
   ]
  },
  {
   "cell_type": "code",
   "execution_count": null,
   "metadata": {},
   "outputs": [],
   "source": [
    "pattern_ex = re.compile('<fex[^>]*>[^<]+</fex>')\n",
    "ex_tags = re.findall(pattern_ex, a)"
   ]
  },
  {
   "cell_type": "code",
   "execution_count": null,
   "metadata": {},
   "outputs": [],
   "source": [
    "ex_tags"
   ]
  },
  {
   "cell_type": "code",
   "execution_count": null,
   "metadata": {},
   "outputs": [],
   "source": [
    "a = document['definition']['def_text_markup']"
   ]
  },
  {
   "cell_type": "code",
   "execution_count": null,
   "metadata": {},
   "outputs": [],
   "source": [
    "a"
   ]
  },
  {
   "cell_type": "code",
   "execution_count": null,
   "metadata": {},
   "outputs": [],
   "source": [
    "markup = '<fex name=\"lea\">Sebek em hat</fex> <m>was</m> a <t>Leader</t> <fex name=\"gov\">of Priests</fex>. ca. 1780 BC <def-root>These are words referring to control by a <fen>Leader</fen> over a particular entity  or group (the <fen>Governed</fen>) or an <fen>Activity</fen>. The frame contains both nouns referring to a title or position (e.g. <ment>director, king, president</ment>), and verbs describing the action of leadership (e.g. <ment>rule, reign</ment>). With verbs, it is possible to mention the <fen>Role</fen> played by the <fen>Leader</fen> (often a name of a leading position, e.g., <ment>king</ment>)'"
   ]
  },
  {
   "cell_type": "code",
   "execution_count": null,
   "metadata": {},
   "outputs": [],
   "source": [
    "def formatted_def(frame, markup):\n",
    "    frame_elements = frame['elements']\n",
    "    colors = RandomColor().generate(count=len(frame_elements), luminosity='light')\n",
    "    color_dict = {f['fe_name']:c for f,c in zip(frame_elements, colors)}\n",
    "    color_dict_abbrev = {f['abbrev']:c for f,c in zip(frame_elements, colors)}\n",
    "    pattern_fen = re.compile('<fen[^>]*>[^<]+</fen>')\n",
    "    for tagset in set(re.findall(pattern_fen, markup)):\n",
    "        fen = tagset[5:-6]\n",
    "        try:\n",
    "            fen_color = color_dict[fen]\n",
    "            markup = markup.replace('<fen>'+fen,'<fen style=\"background-color:'+fen_color+';\">'+fen)\n",
    "        except KeyError:\n",
    "            try:\n",
    "                fen_color = color_dict_abbrev[fen]\n",
    "                def_text_markup = def_text_markup.replace('<fen>'+fen,'<fen style=\"background-color:'+fen_color+';\">'+fen)\n",
    "            except KeyError:\n",
    "                pass\n",
    "\n",
    "    pattern_ex = re.compile('<fex[^>]*>[^<]+</fex>')\n",
    "    ex_tags = re.findall(pattern_ex, markup)\n",
    "    name_pattern = re.compile('<fex (name=\".+\")>.*</fex>')\n",
    "    for ex_tag in ex_tags:\n",
    "        fex_name_block = re.findall(name_pattern, ex_tag)[0]\n",
    "        fex_name = fex_name_block.split('=')[1].strip('\"')\n",
    "        try:\n",
    "            fex_color = color_dict[fex_name]\n",
    "            markup = markup.replace(fex_name_block, 'style=\"background-color:'+ fex_color+';\"')\n",
    "        except KeyError:\n",
    "            try:\n",
    "                fex_color = color_dict_abbrev[fex_name]\n",
    "                markup = markup.replace(fex_name_block, 'style=\"background-color:'+ fex_color+';\"')\n",
    "            except KeyError:\n",
    "                pass\n",
    "    return markup"
   ]
  },
  {
   "cell_type": "code",
   "execution_count": null,
   "metadata": {},
   "outputs": [],
   "source": [
    "formatted_def(document, markup)"
   ]
  },
  {
   "cell_type": "code",
   "execution_count": null,
   "metadata": {},
   "outputs": [],
   "source": [
    "document['elements'][0]"
   ]
  },
  {
   "cell_type": "code",
   "execution_count": null,
   "metadata": {},
   "outputs": [],
   "source": []
  }
 ],
 "metadata": {
  "kernelspec": {
   "display_name": "Python(uvi)",
   "language": "python",
   "name": "uvi"
  },
  "language_info": {
   "codemirror_mode": {
    "name": "ipython",
    "version": 3
   },
   "file_extension": ".py",
   "mimetype": "text/x-python",
   "name": "python",
   "nbconvert_exporter": "python",
   "pygments_lexer": "ipython3",
   "version": "3.6.5"
  }
 },
 "nbformat": 4,
 "nbformat_minor": 2
}
