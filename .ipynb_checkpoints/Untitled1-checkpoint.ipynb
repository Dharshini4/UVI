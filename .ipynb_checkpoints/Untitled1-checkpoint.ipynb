{
 "cells": [
  {
   "cell_type": "code",
   "execution_count": 3,
   "metadata": {},
   "outputs": [],
   "source": [
    "from pymongo import MongoClient\n",
    "\n",
    "mongo_client = MongoClient()\n",
    "db = mongo_client['uvi_corpora']"
   ]
  },
  {
   "cell_type": "code",
   "execution_count": 4,
   "metadata": {},
   "outputs": [],
   "source": [
    "from nltk.corpus import wordnet"
   ]
  },
  {
   "cell_type": "code",
   "execution_count": 4,
   "metadata": {},
   "outputs": [
    {
     "data": {
      "text/plain": [
       "'3.1'"
      ]
     },
     "execution_count": 4,
     "metadata": {},
     "output_type": "execute_result"
    }
   ],
   "source": [
    "wordnet.get_version()"
   ]
  },
  {
   "cell_type": "code",
   "execution_count": 14,
   "metadata": {},
   "outputs": [],
   "source": [
    "steal_class = db.verbnet.find_one({'class_id': 'steal-10.5'})"
   ]
  },
  {
   "cell_type": "code",
   "execution_count": 20,
   "metadata": {},
   "outputs": [],
   "source": [
    "rear_class = db.verbnet.find_one({'class_id': 'rear-26.2.2-1'})"
   ]
  },
  {
   "cell_type": "code",
   "execution_count": 32,
   "metadata": {},
   "outputs": [
    {
     "data": {
      "text/plain": [
       "'!'"
      ]
     },
     "execution_count": 32,
     "metadata": {},
     "output_type": "execute_result"
    }
   ],
   "source": [
    "rear_class['frames'][0]['semantics'][0]['bool']"
   ]
  },
  {
   "cell_type": "code",
   "execution_count": 29,
   "metadata": {},
   "outputs": [],
   "source": [
    "bools = list(db.verbnet.find({'frames.semantics.bool': { '$nin': ['!', None]}}, {'_id':0, 'class_id':1}))\n",
    "# bools = list(db.verbnet.find({'frames.semantics.bool': { '$nin': ['!', None]}}, {'_id':0, 'frames.semantics.bool':1}))"
   ]
  },
  {
   "cell_type": "code",
   "execution_count": 30,
   "metadata": {},
   "outputs": [
    {
     "data": {
      "text/plain": [
       "[{'class_id': 'attend-107.4'},\n",
       " {'class_id': 'help-72.1'},\n",
       " {'class_id': 'meet-36.3'},\n",
       " {'class_id': 'gobble-39.3'},\n",
       " {'class_id': 'relate-86.2'},\n",
       " {'class_id': 'swarm-47.5.1'},\n",
       " {'class_id': 'preparing-26.3'},\n",
       " {'class_id': 'eat-39.1'},\n",
       " {'class_id': 'succeed-74'},\n",
       " {'class_id': 'withdraw-82'},\n",
       " {'class_id': 'cooperate-73.1'},\n",
       " {'class_id': 'hurt-40.8.3'},\n",
       " {'class_id': 'carve-21.2'},\n",
       " {'class_id': 'caring-75.2'},\n",
       " {'class_id': 'mix-22.1'},\n",
       " {'class_id': 'exhale-40.1.3'},\n",
       " {'class_id': 'chew-39.2'},\n",
       " {'class_id': 'intend-61.2-1'},\n",
       " {'class_id': 'spray-9.7-2'},\n",
       " {'class_id': 'intend-61.2-1-1'}]"
      ]
     },
     "execution_count": 30,
     "metadata": {},
     "output_type": "execute_result"
    }
   ],
   "source": [
    "bools"
   ]
  },
  {
   "cell_type": "code",
   "execution_count": 84,
   "metadata": {},
   "outputs": [
    {
     "data": {
      "text/plain": [
       "[{'_id': ObjectId('5b7dae85b334b710bd5a20e3'), 'class_id': 'attend-107.4'},\n",
       " {'_id': ObjectId('5b7dae85b334b710bd5a20e9'), 'class_id': 'help-72.1'},\n",
       " {'_id': ObjectId('5b7dae85b334b710bd5a20fb'), 'class_id': 'meet-36.3'},\n",
       " {'_id': ObjectId('5b7dae85b334b710bd5a2119'), 'class_id': 'gobble-39.3'},\n",
       " {'_id': ObjectId('5b7dae85b334b710bd5a2123'), 'class_id': 'relate-86.2'},\n",
       " {'_id': ObjectId('5b7dae85b334b710bd5a212d'), 'class_id': 'swarm-47.5.1'},\n",
       " {'_id': ObjectId('5b7dae85b334b710bd5a2173'), 'class_id': 'preparing-26.3'},\n",
       " {'_id': ObjectId('5b7dae85b334b710bd5a2174'), 'class_id': 'eat-39.1'},\n",
       " {'_id': ObjectId('5b7dae85b334b710bd5a2177'), 'class_id': 'succeed-74'},\n",
       " {'_id': ObjectId('5b7dae85b334b710bd5a2181'), 'class_id': 'withdraw-82'},\n",
       " {'_id': ObjectId('5b7dae85b334b710bd5a2182'), 'class_id': 'cooperate-73.1'},\n",
       " {'_id': ObjectId('5b7dae85b334b710bd5a2187'), 'class_id': 'hurt-40.8.3'},\n",
       " {'_id': ObjectId('5b7dae85b334b710bd5a219e'), 'class_id': 'carve-21.2'},\n",
       " {'_id': ObjectId('5b7dae85b334b710bd5a21bf'), 'class_id': 'caring-75.2'},\n",
       " {'_id': ObjectId('5b7dae85b334b710bd5a21e3'), 'class_id': 'mix-22.1'},\n",
       " {'_id': ObjectId('5b7dae85b334b710bd5a21f1'), 'class_id': 'exhale-40.1.3'},\n",
       " {'_id': ObjectId('5b7dae85b334b710bd5a2204'), 'class_id': 'chew-39.2'},\n",
       " {'_id': ObjectId('5b7dae85b334b710bd5a22c6'), 'class_id': 'spray-9.7-2'}]"
      ]
     },
     "execution_count": 84,
     "metadata": {},
     "output_type": "execute_result"
    }
   ],
   "source": [
    "list(db.verbnet.find({'frames.syntax.synrestrs.synrestr_list': {'$ne': None}}, {'class_id':1}))"
   ]
  },
  {
   "cell_type": "code",
   "execution_count": 121,
   "metadata": {},
   "outputs": [],
   "source": [
    "selrestrs = list(db.verbnet.find({'frames.syntax.selrestrs.selrestr_list': {'$ne': None}}))"
   ]
  },
  {
   "cell_type": "code",
   "execution_count": 129,
   "metadata": {},
   "outputs": [
    {
     "data": {
      "text/plain": [
       "[]"
      ]
     },
     "execution_count": 129,
     "metadata": {},
     "output_type": "execute_result"
    }
   ],
   "source": [
    "selrestrs[4]['frames']"
   ]
  },
  {
   "cell_type": "code",
   "execution_count": 132,
   "metadata": {},
   "outputs": [
    {
     "data": {
      "text/plain": [
       "576"
      ]
     },
     "execution_count": 132,
     "metadata": {},
     "output_type": "execute_result"
    }
   ],
   "source": [
    "len(list(db.verbnet.find({'frames': {'$ne':[]}})))"
   ]
  },
  {
   "cell_type": "code",
   "execution_count": 133,
   "metadata": {},
   "outputs": [
    {
     "data": {
      "text/plain": [
       "18"
      ]
     },
     "execution_count": 133,
     "metadata": {},
     "output_type": "execute_result"
    }
   ],
   "source": [
    "594-576"
   ]
  },
  {
   "cell_type": "code",
   "execution_count": 174,
   "metadata": {},
   "outputs": [
    {
     "data": {
      "text/plain": [
       "[{'themrole': 'Agent',\n",
       "  'selrestrs': {'selrestrs_list': [{'value': '+', 'type': 'animate'},\n",
       "    {'value': '+', 'type': 'organization'}],\n",
       "   'selrestr_logic': '|'},\n",
       "  'synrestrs': {'synrestr_list': None, 'synrestr_logic': None}},\n",
       " {'themrole': 'Topic',\n",
       "  'selrestrs': {'selrestrs_list': None, 'selrestr_logic': '&'},\n",
       "  'synrestrs': {'synrestr_list': None, 'synrestr_logic': None}},\n",
       " {'themrole': 'Attribute',\n",
       "  'selrestrs': {'selrestrs_list': None, 'selrestr_logic': '&'},\n",
       "  'synrestrs': {'synrestr_list': None, 'synrestr_logic': None}}]"
      ]
     },
     "execution_count": 174,
     "metadata": {},
     "output_type": "execute_result"
    }
   ],
   "source": [
    "db.verbnet.find_one({'class_id':'intend-61.2'})['themroles']"
   ]
  },
  {
   "cell_type": "code",
   "execution_count": 136,
   "metadata": {},
   "outputs": [
    {
     "data": {
      "text/plain": [
       "[{'class_id': 'characterize-29.2'},\n",
       " {'class_id': 'intend-61.2-1'},\n",
       " {'class_id': 'judgment-33.1-1-1'}]"
      ]
     },
     "execution_count": 136,
     "metadata": {},
     "output_type": "execute_result"
    }
   ],
   "source": [
    "list(db.verbnet.find({'frames.syntax.synrestrs.synrestr_list.type': 'small_clause'}, {'class_id':1, '_id':0}))"
   ]
  },
  {
   "cell_type": "code",
   "execution_count": 139,
   "metadata": {},
   "outputs": [
    {
     "data": {
      "text/plain": [
       "225"
      ]
     },
     "execution_count": 139,
     "metadata": {},
     "output_type": "execute_result"
    }
   ],
   "source": [
    "len(list(db.verbnet.find({'frames.syntax.synrestrs.synrestr_list.type': {'$exists':1}}, {'class_id':1, '_id':0})))"
   ]
  },
  {
   "cell_type": "code",
   "execution_count": 140,
   "metadata": {},
   "outputs": [
    {
     "data": {
      "text/plain": [
       "90"
      ]
     },
     "execution_count": 140,
     "metadata": {},
     "output_type": "execute_result"
    }
   ],
   "source": [
    "len(list(db.verbnet.find({'frames.syntax.selrestrs.selrestr_list.type': {'$exists':1}}, {'class_id':1, '_id':0})))"
   ]
  },
  {
   "cell_type": "code",
   "execution_count": 153,
   "metadata": {},
   "outputs": [
    {
     "data": {
      "text/plain": [
       "[{'value': '-', 'type': 'sentential'}]"
      ]
     },
     "execution_count": 153,
     "metadata": {},
     "output_type": "execute_result"
    }
   ],
   "source": [
    "db.verbnet.find_one({'class_id':'intend-61.2-1'})['frames'][0]['syntax'][2]['synrestrs']['synrestr_list']"
   ]
  },
  {
   "cell_type": "code",
   "execution_count": 160,
   "metadata": {},
   "outputs": [
    {
     "data": {
      "text/plain": [
       "576"
      ]
     },
     "execution_count": 160,
     "metadata": {},
     "output_type": "execute_result"
    }
   ],
   "source": [
    "len(list(db.verbnet.find({'frames.syntax.synrestrs.synrestr_list': {'$exists':1}}, {'class_id':1, '_id':0})))"
   ]
  },
  {
   "cell_type": "code",
   "execution_count": null,
   "metadata": {},
   "outputs": [],
   "source": [
    "list(db.verbnet.find({'frames.syntax.selrestrs.selrestr_list': {'$type':4}}, {'class_id':1, '_id':0}))"
   ]
  },
  {
   "cell_type": "code",
   "execution_count": 184,
   "metadata": {},
   "outputs": [
    {
     "data": {
      "text/plain": [
       "0"
      ]
     },
     "execution_count": 184,
     "metadata": {},
     "output_type": "execute_result"
    }
   ],
   "source": [
    "len(list(db.verbnet.find({'themroles.synrestrs.synrestrs_list.type': {'$exists':1}}, {'class_id':1, '_id':0})))"
   ]
  },
  {
   "cell_type": "code",
   "execution_count": 1,
   "metadata": {},
   "outputs": [],
   "source": [
    "def get_themrole_fields(class_id, themrole_name):\n",
    "\t#Get Class ID's for parent classes of current class (returned list includes the original class)\n",
    "\tthemrole_name_stripped = themrole_name.strip('?').strip('_i').strip('_j')\n",
    "\n",
    "\tselrestr_list = None\n",
    "\tselrestr_logic = None\n",
    "\tparents = [('-').join(class_id.split('-')[:x]) for x in range(2, len(class_id.split('-'))+1)]\n",
    "\tfor parent_class_id in parents:\n",
    "\t\tselrestr_fields = db['verbnet'].find_one({ 'class_id': parent_class_id, 'themroles.themrole':themrole_name_stripped}, {'themroles.themrole.$':1})\n",
    "\t\tif selrestr_fields:\n",
    "\t\t\tselrestr_list = selrestr_fields['themroles'][0]['selrestrs']['selrestrs_list']\n",
    "\t\t\tselrestr_logic = selrestr_fields['themroles'][0]['selrestrs']['selrestr_logic']\n",
    "\n",
    "\tsynrestr_list = None\n",
    "\tsynrestr_logic = None\n",
    "\tparents = [('-').join(class_id.split('-')[:x]) for x in range(2, len(class_id.split('-'))+1)]\n",
    "\tfor parent_class_id in parents:\n",
    "\t\tsynrestr_fields = db['verbnet'].find_one({ 'class_id': parent_class_id, 'themroles.themrole':themrole_name_stripped}, {'themroles.themrole.$':1})\n",
    "\t\tif synrestr_fields:\n",
    "\t\t\tsynrestr_list = synrestr_fields['themroles'][0]['synrestrs']['synrestr_list']\n",
    "\t\t\tsynrestr_logic = synrestr_fields['themroles'][0]['synrestrs']['synrestr_logic']\n",
    "            \n",
    "\n",
    "    \n",
    "\tthemrole_entry = db['vn_themroles'].find_one({'name':themrole_name_stripped})\n",
    "\n",
    "\tif themrole_entry:\n",
    "\t\tthemrole_desc = themrole_entry['description']\n",
    "\t\tthemrole_example = themrole_entry['example']\n",
    "\telse:\n",
    "\t\tthemrole_desc = 'no entry found'\n",
    "\t\tthemrole_example = 'no entry found'\n",
    "\n",
    "\treturn {'selrestr_list':selrestr_list, 'selrestr_logic':selrestr_logic, 'synrestr_list':synrestr_list, \n",
    "\t'synrestr_logic':synrestr_logic, 'themrole_desc':themrole_desc, 'themrole_example':themrole_example}"
   ]
  },
  {
   "cell_type": "code",
   "execution_count": 4,
   "metadata": {},
   "outputs": [
    {
     "data": {
      "text/plain": [
       "{'selrestr_list': [{'value': '+', 'type': 'concrete'}],\n",
       " 'selrestr_logic': '&',\n",
       " 'synrestr_list': None,\n",
       " 'synrestr_logic': None,\n",
       " 'themrole_desc': 'Undergoer that is central to an event or state that does not have control over the way the event occurs, is not structurally changed by the event, and/or is characterized as being in a certain position or condition throughout the state.',\n",
       " 'themrole_example': 'THE BALL rolled down the hill.'}"
      ]
     },
     "execution_count": 4,
     "metadata": {},
     "output_type": "execute_result"
    }
   ],
   "source": [
    "get_themrole_fields('bump-18.4-1', 'Theme')"
   ]
  },
  {
   "cell_type": "code",
   "execution_count": null,
   "metadata": {},
   "outputs": [],
   "source": []
  }
 ],
 "metadata": {
  "kernelspec": {
   "display_name": "Python(uvi)",
   "language": "python",
   "name": "uvi"
  },
  "language_info": {
   "codemirror_mode": {
    "name": "ipython",
    "version": 3
   },
   "file_extension": ".py",
   "mimetype": "text/x-python",
   "name": "python",
   "nbconvert_exporter": "python",
   "pygments_lexer": "ipython3",
   "version": "3.6.5"
  }
 },
 "nbformat": 4,
 "nbformat_minor": 2
}
