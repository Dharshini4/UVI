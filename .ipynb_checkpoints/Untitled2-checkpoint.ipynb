{
 "cells": [
  {
   "cell_type": "code",
   "execution_count": 1,
   "metadata": {},
   "outputs": [],
   "source": [
    "import json\n",
    "import os\n",
    "from pprint import pprint\n",
    "import nltk\n",
    "from lxml import etree\n",
    "import re\n",
    "\n",
    "path_framenet = 'corpora/framenet/'\n",
    "path_propbank = 'corpora/propbank/frames/'\n",
    "path_verbnet = 'corpora/verbnet/'\n",
    "path_wordnet = 'corpora/wordnet/'\n",
    "\n",
    "from pymongo import MongoClient\n",
    "\n",
    "mongo_client = MongoClient()\n",
    "db = mongo_client['uvi_corpora']"
   ]
  },
  {
   "cell_type": "code",
   "execution_count": 40,
   "metadata": {},
   "outputs": [],
   "source": [
    "def formatted_def(frame, markup, popover=False):\n",
    "    frame_elements = frame['elements']\n",
    "    colors = RandomColor(seed = frame['name']).generate(count=len(frame_elements), luminosity='light')\n",
    "    color_dict = {f['fe_name']:c for f,c in zip(frame_elements, colors)}\n",
    "    color_dict_abbrev = {f['abbrev']:c for f,c in zip(frame_elements, colors)}\n",
    "    \n",
    "    if popover==True:\n",
    "        element_dict = {element['fe_name']: formatted_def(frame_json, element['def_markup']) for element in frame_json['elements']}\n",
    "    \n",
    "    else:\n",
    "        element_dict = None\n",
    "        \n",
    "    pattern_fen = re.compile('<fen[^>]*>[^<]+</fen>')\n",
    "    for tagset in set(re.findall(pattern_fen, markup)):\n",
    "        fen = tagset[5:-6]\n",
    "        try:\n",
    "            fen_color = color_dict[fen]\n",
    "            if element_dict:\n",
    "                fen_def = element_dict.get(fen,'No Entry Found')\n",
    "                popover_id = 'fen_popover_'+fen\n",
    "                popover_div_content = '<div id='+popover_id+' style=\"display:none;\">'+fen_def+'</div>'\n",
    "                markup = markup.replace(popover_div_content+'<fen>'+fen,'<fen data-toggle=\"popover\" data-popover-content=\"#'+popover_id+'\" style=\"background-color:'+fen_color+';\">'+fen)\n",
    "            else:\n",
    "                markup = markup.replace('<fen>'+fen,'<fen style=\"background-color:'+fen_color+';\">'+fen)\n",
    "        except KeyError:\n",
    "            try:\n",
    "                fen_color = color_dict_abbrev[fen]\n",
    "                if element_dict:\n",
    "                    popover_id = 'fen_popover_'+fen\n",
    "                    fen_def = element_dict.get(fen,'No Entry Found')\n",
    "                    markup = markup.replace('<fen>'+fen,'<fen data-toggle=\"popover\" data-popover-content=\"#'+popover_id+'\" style=\"background-color:'+fen_color+';\">'+fen)\n",
    "                else:\n",
    "                    markup = markup.replace('<fen>'+fen,'<fen style=\"background-color:'+fen_color+';\">'+fen)\n",
    "            except KeyError:\n",
    "                break\n",
    "\n",
    "    pattern_t = re.compile('<t[^>]*>[^<]+</t>')\n",
    "    for tagset in set(re.findall(pattern_t, markup)):\n",
    "        markup = markup.replace('<t>','<t style=\"font-weight:bold; text-transform:uppercase;\">')\n",
    "\n",
    "    pattern_ex = re.compile('<fex[^>]*>[^<]+</fex>')\n",
    "    ex_tags = re.findall(pattern_ex, markup)\n",
    "    name_pattern = re.compile('<fex (name=\".+\")>.*</fex>')\n",
    "    for ex_tag in ex_tags:\n",
    "        fex_name_block = re.findall(name_pattern, ex_tag)[0]\n",
    "        fex_name = fex_name_block.split('=')[1].strip('\"')\n",
    "        try:\n",
    "            fex_color = color_dict[fex_name]\n",
    "            markup = markup.replace(fex_name_block, 'style=\"background-color:'+ fex_color+';\"')\n",
    "        except KeyError:\n",
    "            try:\n",
    "                fex_color = color_dict_abbrev[fex_name]\n",
    "                markup = markup.replace(fex_name_block, 'style=\"background-color:'+ fex_color+';\"')\n",
    "            except KeyError:\n",
    "                break\n",
    "\n",
    "    return markup"
   ]
  },
  {
   "cell_type": "code",
   "execution_count": 41,
   "metadata": {},
   "outputs": [],
   "source": [
    "from randomcolor import RandomColor\n",
    "frame_json = list(db.framenet.find())[3]"
   ]
  },
  {
   "cell_type": "code",
   "execution_count": 42,
   "metadata": {},
   "outputs": [
    {
     "data": {
      "text/plain": [
       "'<def-root>The <fen data-toggle=\"popover\" data-popover-content=\"#fen_popover_Quantity\" style=\"background-color:#6ab2e2;\">Quantity</fen> of a <fen data-toggle=\"popover\" data-popover-content=\"#fen_popover_Collection\" style=\"background-color:#639cdd;\">Collection</fen> occurring in a <fen data-toggle=\"popover\" data-popover-content=\"#fen_popover_Place\" style=\"background-color:#82d3ff;\">Place</fen> has a particular <fen data-toggle=\"popover\" data-popover-content=\"#fen_popover_Measure\" style=\"background-color:#fc949b;\">Measure</fen>. The <fen data-toggle=\"popover\" data-popover-content=\"#fen_popover_Measure\" style=\"background-color:#fc949b;\">Measure</fen> of the <fen data-toggle=\"popover\" data-popover-content=\"#fen_popover_Collection\" style=\"background-color:#639cdd;\">Collection</fen> is referred to only in terms of how the <fen data-toggle=\"popover\" data-popover-content=\"#fen_popover_Measure\" style=\"background-color:#fc949b;\">Measure</fen> diverges from a norm for <fen data-toggle=\"popover\" data-popover-content=\"#fen_popover_Collection\" style=\"background-color:#639cdd;\">Collection</fen>s of the specified type. <fen data-toggle=\"popover\" data-popover-content=\"#fen_popover_Degree\" style=\"background-color:#74f7ad;\">Degree</fen> may further refine the relation of the <fen data-toggle=\"popover\" data-popover-content=\"#fen_popover_Measure\" style=\"background-color:#fc949b;\">Measure</fen> to the norm.'"
      ]
     },
     "execution_count": 42,
     "metadata": {},
     "output_type": "execute_result"
    }
   ],
   "source": [
    "formatted_def(frame_json, frame_json['definition']['def_text_markup'], popover=True)"
   ]
  },
  {
   "cell_type": "code",
   "execution_count": 12,
   "metadata": {},
   "outputs": [
    {
     "data": {
      "text/plain": [
       "{'fe_name': 'Theme',\n",
       " 'core_type': 'Core',\n",
       " 'abbrev': 'Thm',\n",
       " 'def_markup': 'The <fen>Theme</fen> covers or fills the <fen>Location</fen>.  This FE most frequently occurs in a PP Complement headed by with or in.\\n\\n<ex>The waters of the bay <t>teemed</t> <fex name=\"Theme\">with fish</fex>.</ex>'}"
      ]
     },
     "execution_count": 12,
     "metadata": {},
     "output_type": "execute_result"
    }
   ],
   "source": [
    "frame_json['elements'][0]"
   ]
  },
  {
   "cell_type": "code",
   "execution_count": 13,
   "metadata": {},
   "outputs": [],
   "source": [
    "element_dict = {}\n",
    "elements = frame_json['elements']\n",
    "for element in elements:\n",
    "    definition_html = formatted_def(frame_json, element['def_markup'])\n",
    "    element_dict[element['fe_name']] = definition_html"
   ]
  },
  {
   "cell_type": "code",
   "execution_count": 18,
   "metadata": {},
   "outputs": [],
   "source": [
    "element_dict_2 = {element['fe_name']: formatted_def(frame_json, element['def_markup']) for element in frame_json['elements']}"
   ]
  },
  {
   "cell_type": "code",
   "execution_count": 19,
   "metadata": {},
   "outputs": [
    {
     "data": {
      "text/plain": [
       "{'Theme': 'The <fen style=\"background-color:#f2c59b;\">Theme</fen> covers or fills the <fen style=\"background-color:#f99ac4;\">Location</fen>.  This FE most frequently occurs in a PP Complement headed by with or in.\\n\\n<ex>The waters of the bay <t style=\"font-weight:bold; text-transform:uppercase;\">teemed</t> <fex style=\"background-color:#f2c59b;\">with fish</fex>.</ex>',\n",
       " 'Location': '<fen style=\"background-color:#f99ac4;\">Location</fen> is the object or area that the <fen style=\"background-color:#f2c59b;\">Theme</fen> fills or covers.  This frame element generally occurs as the External Argument.<ex><fex style=\"background-color:#f99ac4;\">The walls</fex> <t style=\"font-weight:bold; text-transform:uppercase;\">crawled</t> <fex style=\"background-color:#f2c59b;\">with nanite surveillance probes</fex>.</ex>\\n<ex><fex style=\"background-color:#f99ac4;\">The picture frame</fex> <m>was</m> <fex style=\"background-color:#80daed;\">thickly</fex> <t style=\"font-weight:bold; text-transform:uppercase;\">coated</t> <fex style=\"background-color:#f2c59b;\">with dust</fex>.</ex>',\n",
       " 'Degree': 'This FE identifies the <fen style=\"background-color:#80daed;\">Degree</fen> of abundance with which the <fen style=\"background-color:#f2c59b;\">Theme</fen> covers or fills the <fen style=\"background-color:#f99ac4;\">Location</fen>.',\n",
       " 'Depictive': 'The <fen style=\"background-color:#8a6cdd;\">Depictive</fen> describes the state of the <fen style=\"background-color:#f99ac4;\">Location</fen>.<ex> She had <fex style=\"background-color:#f99ac4;\">a closet</fex> <t style=\"font-weight:bold; text-transform:uppercase;\">crammed</t> <fex style=\"background-color:#8a6cdd;\">full of clothes</fex>.</ex>',\n",
       " 'Time': 'The period of time during which the the Abounding_with event occurs.'}"
      ]
     },
     "execution_count": 19,
     "metadata": {},
     "output_type": "execute_result"
    }
   ],
   "source": [
    "element_dict_2"
   ]
  },
  {
   "cell_type": "code",
   "execution_count": 17,
   "metadata": {},
   "outputs": [
    {
     "data": {
      "text/plain": [
       "{'Theme': 'The <fen style=\"background-color:#f2c59b;\">Theme</fen> covers or fills the <fen style=\"background-color:#f99ac4;\">Location</fen>.  This FE most frequently occurs in a PP Complement headed by with or in.\\n\\n<ex>The waters of the bay <t style=\"font-weight:bold; text-transform:uppercase;\">teemed</t> <fex style=\"background-color:#f2c59b;\">with fish</fex>.</ex>',\n",
       " 'Location': '<fen style=\"background-color:#f99ac4;\">Location</fen> is the object or area that the <fen style=\"background-color:#f2c59b;\">Theme</fen> fills or covers.  This frame element generally occurs as the External Argument.<ex><fex style=\"background-color:#f99ac4;\">The walls</fex> <t style=\"font-weight:bold; text-transform:uppercase;\">crawled</t> <fex style=\"background-color:#f2c59b;\">with nanite surveillance probes</fex>.</ex>\\n<ex><fex style=\"background-color:#f99ac4;\">The picture frame</fex> <m>was</m> <fex style=\"background-color:#80daed;\">thickly</fex> <t style=\"font-weight:bold; text-transform:uppercase;\">coated</t> <fex style=\"background-color:#f2c59b;\">with dust</fex>.</ex>',\n",
       " 'Degree': 'This FE identifies the <fen style=\"background-color:#80daed;\">Degree</fen> of abundance with which the <fen style=\"background-color:#f2c59b;\">Theme</fen> covers or fills the <fen style=\"background-color:#f99ac4;\">Location</fen>.',\n",
       " 'Depictive': 'The <fen style=\"background-color:#8a6cdd;\">Depictive</fen> describes the state of the <fen style=\"background-color:#f99ac4;\">Location</fen>.<ex> She had <fex style=\"background-color:#f99ac4;\">a closet</fex> <t style=\"font-weight:bold; text-transform:uppercase;\">crammed</t> <fex style=\"background-color:#8a6cdd;\">full of clothes</fex>.</ex>',\n",
       " 'Time': 'The period of time during which the the Abounding_with event occurs.'}"
      ]
     },
     "execution_count": 17,
     "metadata": {},
     "output_type": "execute_result"
    }
   ],
   "source": [
    "element_dict"
   ]
  },
  {
   "cell_type": "code",
   "execution_count": null,
   "metadata": {},
   "outputs": [],
   "source": []
  }
 ],
 "metadata": {
  "kernelspec": {
   "display_name": "Python(uvi)",
   "language": "python",
   "name": "uvi"
  },
  "language_info": {
   "codemirror_mode": {
    "name": "ipython",
    "version": 3
   },
   "file_extension": ".py",
   "mimetype": "text/x-python",
   "name": "python",
   "nbconvert_exporter": "python",
   "pygments_lexer": "ipython3",
   "version": "3.6.5"
  }
 },
 "nbformat": 4,
 "nbformat_minor": 2
}
