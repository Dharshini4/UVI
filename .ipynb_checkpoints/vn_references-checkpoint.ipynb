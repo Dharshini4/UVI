{
 "cells": [
  {
   "cell_type": "code",
   "execution_count": null,
   "metadata": {},
   "outputs": [],
   "source": [
    "from pymongo import MongoClient\n",
    "\n",
    "mongo_client = MongoClient()\n",
    "db = mongo_client['uvi_corpora']\n",
    "\n",
    "predicate_definition_files = ['reference_docs/'+f for f in ['vn_verb_specific_predicates.tsv',\n",
    " 'vn_semantic_predicates.tsv',\n",
    " 'vn_constants.tsv']]"
   ]
  },
  {
   "cell_type": "code",
   "execution_count": null,
   "metadata": {},
   "outputs": [],
   "source": [
    "def add_predicate_defs(predicate_definition_file, mongo_collection):\n",
    "    with open(predicate_definition_file, 'r') as definition_tsv:\n",
    "        #skip first line (tsv heading)\n",
    "        next(definition_tsv)\n",
    "        for line in definition_tsv:\n",
    "            pred_fields = line.split('\\t')\n",
    "            pred_name = pred_fields[0].split('(')[0].strip()\n",
    "            pred_def = pred_fields[1]\n",
    "            pred_args = pred_fields[2]\n",
    "            pred_dict = {'name':pred_name, 'def':pred_def, 'args':pred_args}\n",
    "            mongo_collection.insert_one(pred_dict)\n",
    "\n",
    "db.drop_collection('vn_predicates')\n",
    "vn_pred_collection = db['vn_predicates']\n",
    "add_predicate_defs('reference_docs/vn_semantic_predicates.tsv', vn_pred_collection)\n",
    "\n",
    "db.drop_collection('vn_constants')\n",
    "vn_constant_collection = db['vn_constants']\n",
    "add_predicate_defs('reference_docs/vn_constants.tsv', vn_constant_collection)\n",
    "\n",
    "db.drop_collection('vn_verb_specific')\n",
    "vn_verb_specific_collection = db['vn_verb_specific']\n",
    "add_predicate_defs('reference_docs/vn_verb_specific_predicates.tsv', vn_verb_specific_collection)"
   ]
  },
  {
   "cell_type": "code",
   "execution_count": null,
   "metadata": {},
   "outputs": [],
   "source": [
    "vn_pred_collection.find()[3]"
   ]
  },
  {
   "cell_type": "code",
   "execution_count": null,
   "metadata": {},
   "outputs": [],
   "source": [
    "vn_constant_collection.find_one()"
   ]
  },
  {
   "cell_type": "code",
   "execution_count": null,
   "metadata": {},
   "outputs": [],
   "source": [
    "vn_verb_specific_collection.find_one({'name':'Prep'})"
   ]
  },
  {
   "cell_type": "code",
   "execution_count": null,
   "metadata": {},
   "outputs": [],
   "source": [
    "db['verbnet'].find()[2]['frames'][0]['semantics']"
   ]
  },
  {
   "cell_type": "code",
   "execution_count": null,
   "metadata": {},
   "outputs": [],
   "source": [
    "from bs4 import BeautifulSoup\n",
    "import os\n",
    "import json"
   ]
  },
  {
   "cell_type": "code",
   "execution_count": null,
   "metadata": {},
   "outputs": [],
   "source": [
    "soup.find_all('p')"
   ]
  },
  {
   "cell_type": "code",
   "execution_count": null,
   "metadata": {},
   "outputs": [],
   "source": [
    "html_dir = 'reference_docs/vn_themrole_html/'\n",
    "html_files = [html_dir + f for f in os.listdir(html_dir)]\n",
    "\n",
    "themrole_defs = []\n",
    "\n",
    "for html_file in html_files:\n",
    "    html_doc = open(html_file,'r')\n",
    "    soup = BeautifulSoup(html_doc, 'html.parser')\n",
    "    h3_tags = [t.get_text() for t in soup.find_all('h3')]\n",
    "    \n",
    "    themrole = str(soup.h2).split(':')[1].split('<')[0].strip()\n",
    "    description = 'No description found'\n",
    "    example = 'No examples found'\n",
    "    \n",
    "    for tag in h3_tags:\n",
    "        tag_fields = tag.split(':')\n",
    "        if tag_fields[0].strip() == 'Description':\n",
    "            description = tag_fields[1].strip()\n",
    "        elif tag_fields[0].strip() == 'Example':\n",
    "            example = tag_fields[1].strip()\n",
    "    \n",
    "    themrole_dict = {'name':themrole, 'description':description, 'example':example}\n",
    "    themrole_defs.append(themrole_dict)\n",
    "\n",
    "with open('themrole_defs.json', 'w') as outfile:\n",
    "    json.dump(themrole_defs, outfile)"
   ]
  },
  {
   "cell_type": "code",
   "execution_count": null,
   "metadata": {},
   "outputs": [],
   "source": [
    "with open('themrole_defs.json', 'r') as infile:\n",
    "    themrole_definitions = json.load(infile)"
   ]
  },
  {
   "cell_type": "code",
   "execution_count": null,
   "metadata": {},
   "outputs": [],
   "source": [
    "from pymongo import MongoClient\n",
    "\n",
    "mongo_client = MongoClient()\n",
    "db = mongo_client['uvi_corpora']\n",
    "\n",
    "db.drop_collection('vn_themroles')\n",
    "vn_themroles_db = db['vn_themroles']\n",
    "vn_themroles_db.insert_many(themrole_definitions)"
   ]
  },
  {
   "cell_type": "code",
   "execution_count": null,
   "metadata": {},
   "outputs": [],
   "source": [
    "vn_themroles_db.find()[1]"
   ]
  },
  {
   "cell_type": "code",
   "execution_count": null,
   "metadata": {},
   "outputs": [],
   "source": []
  }
 ],
 "metadata": {
  "kernelspec": {
   "display_name": "Python(uvi)",
   "language": "python",
   "name": "uvi"
  },
  "language_info": {
   "codemirror_mode": {
    "name": "ipython",
    "version": 3
   },
   "file_extension": ".py",
   "mimetype": "text/x-python",
   "name": "python",
   "nbconvert_exporter": "python",
   "pygments_lexer": "ipython3",
   "version": "3.6.5"
  }
 },
 "nbformat": 4,
 "nbformat_minor": 2
}
